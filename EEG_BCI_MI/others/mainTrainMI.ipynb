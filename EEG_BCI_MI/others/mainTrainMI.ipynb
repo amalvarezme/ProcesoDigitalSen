{
 "cells": [
  {
   "cell_type": "code",
   "execution_count": 19,
   "metadata": {},
   "outputs": [
    {
     "name": "stdout",
     "output_type": "stream",
     "text": [
      "Extracting EDF parameters from A01T.gdf...\n",
      "GDF file detected\n",
      "Setting channel info structure...\n",
      "Creating raw.info structure...\n"
     ]
    },
    {
     "name": "stderr",
     "output_type": "stream",
     "text": [
      "C:\\Users\\andre\\Anaconda3\\lib\\site-packages\\mne\\io\\edf\\edf.py:1086: DeprecationWarning: The binary mode of fromstring is deprecated, as it behaves surprisingly on unicode inputs. Use frombuffer instead\n",
      "  etmode = np.fromstring(etmode, np.uint8).tolist()[0]\n",
      "G:\\My Drive\\UNAL\\Clases\\2019-1\\ProcesoDigitalSeñales\\Proyecto_BCI_MI_4_2a\\leer_BCI42a.py:94: RuntimeWarning: Overlapping events detected. Use find_edf_events for the original events.\n",
      "  raw = mne.io.read_raw_edf(path_filename,preload=False)\n",
      "G:\\My Drive\\UNAL\\Clases\\2019-1\\ProcesoDigitalSeñales\\Proyecto_BCI_MI_4_2a\\leer_BCI42a.py:94: RuntimeWarning: Interpolating stim channel. Events may jitter.\n",
      "  raw = mne.io.read_raw_edf(path_filename,preload=False)\n",
      "G:\\My Drive\\UNAL\\Clases\\2019-1\\ProcesoDigitalSeñales\\Proyecto_BCI_MI_4_2a\\leer_BCI42a.py:94: RuntimeWarning: Channel names are not unique, found duplicates for: {'EEG'}. Applying running numbers for duplicates.\n",
      "  raw = mne.io.read_raw_edf(path_filename,preload=False)\n"
     ]
    },
    {
     "data": {
      "text/plain": [
       "(138, 22, 625)"
      ]
     },
     "execution_count": 19,
     "metadata": {},
     "output_type": "execute_result"
    }
   ],
   "source": [
    "%matplotlib inline\n",
    "import mne\n",
    "import numpy as np\n",
    "from scipy import signal\n",
    "from leer_BCI42a import leer_bci42a_train_full\n",
    "import os.path\n",
    "import matplotlib.pyplot as plt\n",
    "\n",
    "filename_train = 'A01T.gdf'\n",
    "#Ch = np.array([0,2,3])#len(raw.ch_names)-4\n",
    "Ch = np.arange(0,22)#np.arange(7,15)\n",
    "vt = [0.5,2]#2*sfreq otf = 2 #5*sfreq\n",
    "clases = [769,770]\n",
    "i_muestras, i_clases, raw, Xraw, y, ni, m = leer_bci42a_train_full(filename_train,clases,Ch,vt)\n",
    "Xraw.shape"
   ]
  },
  {
   "cell_type": "code",
   "execution_count": 20,
   "metadata": {},
   "outputs": [],
   "source": [
    "sfreq=raw.info['sfreq']\n",
    "vf = np.fft.rfftfreq(np.size(Xraw,2),1/sfreq)\n",
    "F = abs(np.fft.rfft(Xraw,axis=2))\n",
    "#ind = (vf>=3) & (vf<=30)\n",
    "#F = F[:,:,ind]\n",
    "#raw.ch_names\n",
    "#Xraw.shape\n",
    "#print(np.linalg.norm(F[10,:,:].flatten() - Xdata[10,:]))\n",
    "#i_clases[m+1]"
   ]
  },
  {
   "cell_type": "code",
   "execution_count": 21,
   "metadata": {},
   "outputs": [],
   "source": [
    "Sxx = abs(signal.stft(Xraw, sfreq, window='hann',nperseg=int(sfreq),noverlap=int(0.5*sfreq))[2])\n"
   ]
  },
  {
   "cell_type": "code",
   "execution_count": 22,
   "metadata": {},
   "outputs": [],
   "source": [
    "import pywt \n",
    "w = pywt.Wavelet('db4')\n",
    "cA, cD = pywt.dwt(Xraw, wavelet=w, mode='constant')\n"
   ]
  },
  {
   "cell_type": "code",
   "execution_count": 23,
   "metadata": {},
   "outputs": [
    {
     "data": {
      "text/plain": [
       "(138, 37422)"
      ]
     },
     "execution_count": 23,
     "metadata": {},
     "output_type": "execute_result"
    }
   ],
   "source": [
    "#Xdata = Sxx.reshape(np.size(Sxx,0),-1)\n",
    "\n",
    "Xdata = F.reshape(np.size(F,0),-1)\n",
    "Xdata = np.append(Xdata,Sxx.reshape(np.size(Sxx,0),-1),axis=1)\n",
    "Xdata = np.append(Xdata,cA.reshape(np.size(cA,0),-1),axis=1)\n",
    "Xdata = np.append(Xdata,cD.reshape(np.size(cD,0),-1),axis=1)\n",
    "Xdata.shape"
   ]
  },
  {
   "cell_type": "code",
   "execution_count": 24,
   "metadata": {},
   "outputs": [],
   "source": [
    "from sklearn.decomposition import PCA\n",
    "from sklearn.preprocessing import StandardScaler\n",
    "from sklearn.manifold import TSNE\n",
    "scaler = StandardScaler()\n",
    "Xdataz = scaler.fit_transform(Xdata)\n",
    "pca = PCA(n_components=min(Xdataz.shape))\n",
    "Z = pca.fit_transform(Xdataz)  \n",
    "\n",
    "#tsne = TSNE(n_components=3, perplexity=10.0)\n",
    "#Zt = tsne.fit_transform(Xdataz) "
   ]
  },
  {
   "cell_type": "code",
   "execution_count": 25,
   "metadata": {},
   "outputs": [
    {
     "data": {
      "text/plain": [
       "<matplotlib.collections.PathCollection at 0x28fcbec8c18>"
      ]
     },
     "execution_count": 25,
     "metadata": {},
     "output_type": "execute_result"
    },
    {
     "data": {
      "image/png": "[encoded data removed]",
      "text/plain": [
       "<Figure size 432x288 with 1 Axes>"
      ]
     },
     "metadata": {
      "needs_background": "light"
     },
     "output_type": "display_data"
    }
   ],
   "source": [
    "plt.scatter(Z[:,0],Z[:,1],c=y)\n"
   ]
  },
  {
   "cell_type": "code",
   "execution_count": 26,
   "metadata": {},
   "outputs": [],
   "source": [
    "from sklearn.svm import SVC\n",
    "from sklearn.preprocessing import StandardScaler\n",
    "from sklearn.pipeline import Pipeline\n",
    "from sklearn.model_selection import train_test_split\n",
    "\n",
    "#from mne.decoding import CSP\n",
    "#csp = CSP(n_components=np.size(Xraw,1), reg=0.01, log=True, norm_trace=False)\n",
    "#Xdata = csp.fit_transform(Xraw,y)\n",
    "#plt.scatter(Xdata[:,0],Xdata[:,1],c=y)\n",
    "\n",
    "steps = [('scaler', StandardScaler()), ('PCA', PCA()), ('SVM', SVC())]\n",
    "#steps = [('scaler', StandardScaler()), ('SVM', SVC())]\n",
    "pipeline = Pipeline(steps) # define the pipeline object.\n",
    "\n",
    "X_train, X_test, y_train, y_test = train_test_split(Xdata,y,test_size=0.3, random_state=30, stratify=y)"
   ]
  },
  {
   "cell_type": "code",
   "execution_count": null,
   "metadata": {},
   "outputs": [],
   "source": [
    "from sklearn.model_selection import GridSearchCV\n",
    "parameters = {'SVM__C':[0.001,0.1,10,100,10e3], 'SVM__gamma':[0.1,0.01,1,10]}\n",
    "grid_search = GridSearchCV(pipeline, parameters, n_jobs=-1,cv=5, scoring='f1')\n",
    "grid_search.fit(X_train, y_train)\n",
    "grid_search.best_params_\n"
   ]
  },
  {
   "cell_type": "code",
   "execution_count": null,
   "metadata": {},
   "outputs": [],
   "source": [
    "from sklearn.metrics import confusion_matrix\n",
    "from sklearn.metrics import f1_score\n",
    "from sklearn.metrics import accuracy_score\n",
    "y_test_e = grid_search.predict(X_test)\n",
    "print(confusion_matrix(y_test, y_test_e))\n",
    "print(\"F1=%.4f\" % f1_score(y_test, y_test_e)) \n",
    "print(\"Acc=%.4f\" % accuracy_score(y_test, y_test_e)) "
   ]
  },
  {
   "cell_type": "code",
   "execution_count": null,
   "metadata": {},
   "outputs": [],
   "source": [
    "from sklearn.model_selection import cross_val_score\n",
    "best_model = grid_search.best_estimator_\n",
    "scores = cross_val_score(best_model, Xdata, y, cv=10, scoring='f1')\n",
    "scores"
   ]
  },
  {
   "cell_type": "code",
   "execution_count": null,
   "metadata": {},
   "outputs": [],
   "source": [
    "from sklearn.externals import joblib #https://joblib.readthedocs.io/en/latest/\n",
    "best_all = [best_model,\"andres\"]\n",
    "joblib.dump(best_all, \"my_best_model.pkl\") # DIFF  https://docs.python.org/2/library/pickle.html\n",
    "#...\n",
    "my_model_loaded = joblib.load(\"my_best_model.pkl\") # DIFF"
   ]
  },
  {
   "cell_type": "code",
   "execution_count": null,
   "metadata": {},
   "outputs": [],
   "source": [
    "my_model_loaded"
   ]
  },
  {
   "cell_type": "code",
   "execution_count": null,
   "metadata": {},
   "outputs": [],
   "source": []
  }
 ],
 "metadata": {
  "kernelspec": {
   "display_name": "Python 3",
   "language": "python",
   "name": "python3"
  },
  "language_info": {
   "codemirror_mode": {
    "name": "ipython",
    "version": 3
   },
   "file_extension": ".py",
   "mimetype": "text/x-python",
   "name": "python",
   "nbconvert_exporter": "python",
   "pygments_lexer": "ipython3",
   "version": "3.7.1"
  }
 },
 "nbformat": 4,
 "nbformat_minor": 2
}
