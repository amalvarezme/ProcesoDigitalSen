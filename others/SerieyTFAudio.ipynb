{
  "nbformat": 4,
  "nbformat_minor": 0,
  "metadata": {
    "kernelspec": {
      "display_name": "Python 3",
      "language": "python",
      "name": "python3"
    },
    "language_info": {
      "codemirror_mode": {
        "name": "ipython",
        "version": 3
      },
      "file_extension": ".py",
      "mimetype": "text/x-python",
      "name": "python",
      "nbconvert_exporter": "python",
      "pygments_lexer": "ipython3",
      "version": "3.7.1"
    },
    "colab": {
      "name": "SerieyTFAudio.ipynb",
      "provenance": [],
      "toc_visible": true,
      "include_colab_link": true
    }
  },
  "cells": [
    {
      "cell_type": "markdown",
      "metadata": {
        "id": "view-in-github",
        "colab_type": "text"
      },
      "source": [
        "<a href=\"https://colab.research.google.com/github/amalvarezme/ProcesoDigitalSen/blob/master/SerieyTFAudio.ipynb\" target=\"_parent\"><img src=\"https://colab.research.google.com/assets/colab-badge.svg\" alt=\"Open In Colab\"/></a>"
      ]
    },
    {
      "cell_type": "markdown",
      "metadata": {
        "id": "tyEe9b48K5q-",
        "colab_type": "text"
      },
      "source": [
        "# Serie de Fourier"
      ]
    },
    {
      "cell_type": "markdown",
      "metadata": {
        "id": "Goh9w6QOK5q_",
        "colab_type": "text"
      },
      "source": [
        "Sea la señal:\n",
        "\n",
        "\\begin{equation}\n",
        "x(t) = \\begin{cases} 1, & -T/2 \\leq t < 0 \\\\ -1, & 0 \\leq t < T/2 \\end{cases}\n",
        "\\end{equation}\n"
      ]
    },
    {
      "cell_type": "code",
      "metadata": {
        "id": "_dSk_y9ZK5rA",
        "colab_type": "code",
        "outputId": "783344d8-5f43-47de-b3d5-dccc02d8b0d1",
        "colab": {
          "base_uri": "https://localhost:8080/",
          "height": 304
        }
      },
      "source": [
        "# Para graficar\n",
        "%matplotlib inline\n",
        "import matplotlib as mpl\n",
        "import matplotlib.pyplot as plt\n",
        "import numpy as np\n",
        "\n",
        "mpl.rc('axes', labelsize=14)\n",
        "mpl.rc('xtick', labelsize=12)\n",
        "mpl.rc('ytick', labelsize=12)\n",
        "\n",
        "T = 3 #3 segundos de grafica\n",
        "Fs = 500 # 500 muestras por segundo\n",
        "Nm = T*Fs #numero de muestras requeridas\n",
        "tv = np.linspace(-T/2,T/2,Nm)\n",
        "\n",
        "xo = np.concatenate((np.ones(int(Nm/2)), -np.ones(int(Nm/2))), axis=0)\n",
        "\n",
        "plt.plot(tv,xo,'r',linewidth=4)\n",
        "plt.grid()\n",
        "plt.xlabel(\"t[s]\",fontsize = 14)\n",
        "plt.ylabel(\"x(t)\",fontsize = 14)\n"
      ],
      "execution_count": 0,
      "outputs": [
        {
          "output_type": "execute_result",
          "data": {
            "text/plain": [
              "Text(0, 0.5, 'x(t)')"
            ]
          },
          "metadata": {
            "tags": []
          },
          "execution_count": 1
        },
        {
          "output_type": "display_data",
          "data": {
            "image/png": "[encoded data removed]",
            "text/plain": [
              "<Figure size 432x288 with 1 Axes>"
            ]
          },
          "metadata": {
            "tags": [],
            "needs_background": "light"
          }
        }
      ]
    },
    {
      "cell_type": "markdown",
      "metadata": {
        "id": "7lxLYo0LK5rF",
        "colab_type": "text"
      },
      "source": [
        "Su espectro en serie de Fourier se calcula como:\n",
        "\n",
        "\\begin{equation}\n",
        "c_n = \\frac{1}{T}\\int_{-T/2}^{T/2}{x(t)e^{-jn\\omega_ot}dt},\n",
        "\\end{equation}\n",
        "donde:\n",
        "\n",
        "\\begin{equation}\n",
        "c_n = \\frac{j}{n\\pi}((-1)^n-1)\n",
        "\\end{equation}\n",
        "\n",
        "Además, se sabe que la reconstrucción de $x(t)$ desde el espectro $c_n$ se obtiene como:\n",
        "\n",
        "\\begin{equation}\n",
        "\\hat{x}(t) = \\sum\\limits_{n=-N}^N{c_n e^{jnw_ot}}\n",
        "\\end{equation}\n"
      ]
    },
    {
      "cell_type": "code",
      "metadata": {
        "id": "MZ3ltv5DK5rG",
        "colab_type": "code",
        "colab": {}
      },
      "source": [
        "N = 500 #numero armonicos\n",
        "wo = 2*np.pi/T # frecuencia fundamentas\n",
        "# %% definir bases\n",
        "phin = np.zeros((Nm,2*N+1),dtype=np.complex_)\n",
        "for n in range(-N,N+1,1):\n",
        "    phin[:,n+N] = np.exp(1j*n*wo*tv)\n",
        "    \n"
      ],
      "execution_count": 0,
      "outputs": []
    },
    {
      "cell_type": "code",
      "metadata": {
        "id": "wmkDlokpK5rL",
        "colab_type": "code",
        "outputId": "712bc2c9-1219-4bdd-da4a-30f23e045732",
        "colab": {
          "base_uri": "https://localhost:8080/",
          "height": 467
        }
      },
      "source": [
        "cn = np.zeros(2*N+1,dtype=np.complex_)\n",
        "nv = np.linspace(-N, N, 2*N+1) #vector num armónicos\n",
        "Cn = ((1j)/(nv*np.pi))*(1-(-1)**nv) \n",
        "Cn[N] = 0 \n",
        "#graficar espectro\n",
        "#plt.figure(figsize = (10, 8))\n",
        "plt.stem(nv, abs(Cn), 'r')\n",
        "plt.title(r'|Cn|')\n",
        "plt.xlabel(r'$nw_o$[rad/s]',fontsize = 14)\n",
        "plt.ylabel(r'$|C_n|$',fontsize = 14)\n",
        "plt.axis('tight')\n",
        "plt.grid()\n",
        "        "
      ],
      "execution_count": 0,
      "outputs": [
        {
          "output_type": "stream",
          "text": [
            "/usr/local/lib/python3.6/dist-packages/ipykernel_launcher.py:3: RuntimeWarning: divide by zero encountered in true_divide\n",
            "  This is separate from the ipykernel package so we can avoid doing imports until\n",
            "/usr/local/lib/python3.6/dist-packages/ipykernel_launcher.py:3: RuntimeWarning: invalid value encountered in true_divide\n",
            "  This is separate from the ipykernel package so we can avoid doing imports until\n",
            "/usr/local/lib/python3.6/dist-packages/ipykernel_launcher.py:3: RuntimeWarning: invalid value encountered in multiply\n",
            "  This is separate from the ipykernel package so we can avoid doing imports until\n",
            "/usr/local/lib/python3.6/dist-packages/ipykernel_launcher.py:7: UserWarning: In Matplotlib 3.3 individual lines on a stem plot will be added as a LineCollection instead of individual lines. This significantly improves the performance of a stem plot. To remove this warning and switch to the new behaviour, set the \"use_line_collection\" keyword argument to True.\n",
            "  import sys\n"
          ],
          "name": "stderr"
        },
        {
          "output_type": "display_data",
          "data": {
            "image/png": "[encoded data removed]",
            "text/plain": [
              "<Figure size 432x288 with 1 Axes>"
            ]
          },
          "metadata": {
            "tags": [],
            "needs_background": "light"
          }
        }
      ]
    },
    {
      "cell_type": "code",
      "metadata": {
        "id": "FqspFxDKK5rR",
        "colab_type": "code",
        "outputId": "2610ba81-23ec-4797-ddd8-ef2e3d443382",
        "colab": {
          "base_uri": "https://localhost:8080/",
          "height": 341
        }
      },
      "source": [
        "xe = phin @ Cn  #producto matricial para calcular componentes espectrales\n",
        "plt.plot(tv,xe)"
      ],
      "execution_count": 0,
      "outputs": [
        {
          "output_type": "stream",
          "text": [
            "/usr/local/lib/python3.6/dist-packages/numpy/core/_asarray.py:85: ComplexWarning: Casting complex values to real discards the imaginary part\n",
            "  return array(a, dtype, copy=False, order=order)\n"
          ],
          "name": "stderr"
        },
        {
          "output_type": "execute_result",
          "data": {
            "text/plain": [
              "[<matplotlib.lines.Line2D at 0x7f44698a52e8>]"
            ]
          },
          "metadata": {
            "tags": []
          },
          "execution_count": 4
        },
        {
          "output_type": "display_data",
          "data": {
            "image/png": "[encoded data removed]",
            "text/plain": [
              "<Figure size 432x288 with 1 Axes>"
            ]
          },
          "metadata": {
            "tags": [],
            "needs_background": "light"
          }
        }
      ]
    },
    {
      "cell_type": "markdown",
      "metadata": {
        "id": "9JGdPEJ7K5rW",
        "colab_type": "text"
      },
      "source": [
        "La serie de Fourier asume $x(t)$ como señal en tiempo continuo, pero evaluado en un segmento finito $t\\in[-T/2,T/2].$ Por consiguiente, si se evalua $t$ fuera del rango de análisis la serie asume periodicidad en la señal de entrada."
      ]
    },
    {
      "cell_type": "code",
      "metadata": {
        "id": "9kI5Vv3hK5rX",
        "colab_type": "code",
        "outputId": "1dbe1da1-ae8f-4807-a9ed-eda6125ea054",
        "colab": {
          "base_uri": "https://localhost:8080/",
          "height": 341
        }
      },
      "source": [
        "\n",
        "Np = 3 #numero de periodos a graficar\n",
        "tv2 = np.linspace(-Np*T/2,Np*T/2,Np*T*Fs)\n",
        "phin2 = np.zeros((len(tv2),2*N+1),dtype=np.complex_)\n",
        "for n in range(-N,N+1,1):\n",
        "    phin2[:,n+N] = np.exp(1j*n*wo*tv2)\n",
        "    \n",
        "xe2 = phin2 @ Cn  #producto matricial para calcular componentes espectrales\n",
        "plt.plot(tv2,xe2)"
      ],
      "execution_count": 0,
      "outputs": [
        {
          "output_type": "stream",
          "text": [
            "/usr/local/lib/python3.6/dist-packages/numpy/core/_asarray.py:85: ComplexWarning: Casting complex values to real discards the imaginary part\n",
            "  return array(a, dtype, copy=False, order=order)\n"
          ],
          "name": "stderr"
        },
        {
          "output_type": "execute_result",
          "data": {
            "text/plain": [
              "[<matplotlib.lines.Line2D at 0x7f446701a160>]"
            ]
          },
          "metadata": {
            "tags": []
          },
          "execution_count": 5
        },
        {
          "output_type": "display_data",
          "data": {
            "image/png": "[encoded data removed]",
            "text/plain": [
              "<Figure size 432x288 with 1 Axes>"
            ]
          },
          "metadata": {
            "tags": [],
            "needs_background": "light"
          }
        }
      ]
    },
    {
      "cell_type": "markdown",
      "metadata": {
        "id": "CSsm1SBdK5rd",
        "colab_type": "text"
      },
      "source": [
        "# Transformada de Fourier"
      ]
    },
    {
      "cell_type": "markdown",
      "metadata": {
        "id": "WjXTpa9pK5re",
        "colab_type": "text"
      },
      "source": [
        "La transformada de Fourier se puede entender como la extensión de la serie de Fourier para $t\\in(-\\infty,+\\infty)$:\n",
        "\n",
        "\\begin{equation}\n",
        "X(\\omega) = \\int_{-\\infty}^{+\\infty}{x(t)e^{-j\\omega t}dt}.\n",
        "\\end{equation}\n",
        "La respectiva transformada inversa (extensión de la reconstrucción mediante serie de Fourier con $t\\in(-\\infty,+\\infty)$) se define como:\n",
        "\n",
        "\\begin{equation}\n",
        "x(t) = \\frac{1}{2\\pi}\\int_{-\\infty}^{+\\infty}{X(\\omega)e^{j\\omega t}d\\omega}.\n",
        "\\end{equation}\n",
        "\n",
        "Cabe resaltar entonces que el concepto de espectro en frecuencia para la transformada de Fourier asume que $\\omega \\in (-\\infty,+\\infty).$\n",
        "\n",
        "En resumen, la serie de Fourier analiza $x(t)\\in \\mathbb{R} o \\mathbb{C}$ en tiempo continuo sobre segmento finito $t\\in [-T/2,+T/2]$, en espectro en frecuencia discreto $c_n \\in \\mathbb{R} o \\mathbb{C}$, con $n\\in \\mathbb{Z}.$ La transformada de Fourier analiza $x(t)\\in \\mathbb{R} o \\mathbb{C}$ en tiempo continuo sobre segmento infinito $t\\in (-\\infty,+\\infty)$, en espectro en frecuencia continuo (función de densidad espectral) $X(\\omega)\\in \\mathbb{R} o \\mathbb{C}$, con $\\omega\\in (-\\infty,+\\infty).$\n",
        "\n",
        "\n"
      ]
    },
    {
      "cell_type": "markdown",
      "metadata": {
        "id": "DNbwc2R7K5rf",
        "colab_type": "text"
      },
      "source": [
        "# Transformada de Fourier en tiempo discreto\n",
        "\n",
        "A partir de la transformada de Fourier, se puede analizar también una señal en tiempo discreto $x[k]\\in \\mathbb{R} o \\mathbb{C},$ con $k\\in\\mathbb{Z}$, con el fin de calcular su espectro en frecuencia continuo (función de densidad espectral) $X(\\omega)\\in \\mathbb{R} o \\mathbb{C}$, pero con $\\omega$ continua en el intervalo $\\omega\\in [-\\pi,+\\pi]$ o $\\omega\\in [0,2\\pi],$  dado que las bases de representación requieren restringir la codificación de la señal $x[n]$ utilizando funciones seno y coseno originales según la expresión:\n",
        "\n",
        "\\begin{equation}\n",
        "X(\\omega) = \\sum_{k=0}^{K-1}{x[k]e^{-j\\omega k}},\n",
        "\\end{equation}\n",
        "en donde se asume una señal en tiempo discreto con $K$ muestras. A la expresión anterior se le conoce comunmente como la trasformada de Fouirer en tiempo discreto (Discrete time Fourier transform - DTFT). \n",
        "y su respectiva transformada inversa (iDTFT) se expresa como:\n",
        "\n",
        "\n",
        "\\begin{equation}\n",
        "x[k] = \\frac{1}{2\\pi}\\int_{-\\pi}^{+\\pi}{X(\\omega)e^{j\\omega k}d\\omega}=\\frac{1}{2\\pi}\\int_{0}^{+2\\pi}{X(\\omega)e^{j\\omega k}d\\omega}\n",
        "\\end{equation}\n"
      ]
    },
    {
      "cell_type": "markdown",
      "metadata": {
        "id": "UCchsGqlK5rf",
        "colab_type": "text"
      },
      "source": [
        "# Transformada discreta de Fourier y transformada rápida de Fourier\n",
        "\n",
        "Sin embargo, tanto para la serie de Fourier, como para la transformada (continua y discreta en tiempo), se require de la resolución analítica de integrales, además, de las suposición de intervalos infinitos en tiempo y frecuencia (para el caso de la transformada de Fourier), los cuales no son viables ni implementables en la práctica. \n",
        "\n",
        "Por consiguiente, el concepto de espectro en frecuencia se extiende a sistemas de proceso de digital (tiempo discreto y  frecuencia discreta), mediante el cálculo de la transformada discreta de Fourier (Discrete Fourier Transform - DFT).\n",
        "\n",
        "En este caso, la transformada discreta se define como:\n",
        "\n",
        "\\begin{equation}\n",
        "X[n] = \\sum_{k=0}^{K-1}{x[k]e^{-jk\\frac{2\\pi n}{K}}},\n",
        "\\end{equation}\n",
        "\n",
        "es decir, la DFT es una discretización en frecuencia de la DTFT: \n",
        "\n",
        "\\begin{equation}\n",
        "X[n] = X(\\omega)\\Big|_{\\omega=\\frac{2\\pi n}{K}},\n",
        "\\end{equation}\n",
        "y con respecto a la serie de Fourier la DFT se puede relacionar mediante:\n",
        "\n",
        "\\begin{equation}\n",
        "X[n] = K c_n,\n",
        "\\end{equation}\n",
        "asumiendo señal en tiempo discreto y $\\omega_o = \\frac{2\\pi}{K}$ en representación por serie.\n",
        "\n",
        "Por otra parte, la transforma de Fourier inversa (iDFT) se define como:\n",
        "\n",
        "\\begin{equation}\n",
        "x[k] = \\sum_{n=0}^{K-1}{X[n]e^{jk\\frac{2\\pi n}{K}}}.\n",
        "\\end{equation}\n",
        "\n",
        "Note que las variables tiempo y frecuencia discretas $n,k\\in[0,K-1].$ Dado que la frecuencia fundamental se restringe como $\\omega_o=\\frac{2\\pi}{K},$ las bases de representación en tiempo discreto codificaran frecuencias angulares en el rango $[0,2\\pi)$ (cosenos y senos originales).\n",
        "\n",
        "No obstante, en la práctica el cálculo de las sumatorias es costoso computacionalmente, a medida que $K$ aumenta. Por consiguiente, se cuentan con paquetes computacionales que optimizan el cálculo de la DFT de forma rápida, lo que conlleva a la comunmente conocida transformada rápida de Fourier (Fast Fourier Transform - FFT)."
      ]
    },
    {
      "cell_type": "code",
      "metadata": {
        "id": "UxAbpGWmK5rh",
        "colab_type": "code",
        "outputId": "5767b340-9a73-451b-96e5-fadd9cc2342f",
        "colab": {
          "base_uri": "https://localhost:8080/",
          "height": 702
        }
      },
      "source": [
        "#cálculo de la FFT de la señal signo invertido\n",
        "vf = np.fft.fftfreq(len(xo),1/Fs) #calculo vector de frecuencias\n",
        "Xw = np.fft.fft(xo) #cálculo FFT\n",
        "\n",
        "plt.stem(vf,abs(Xw),'r')\n",
        "plt.title(r'|X[n]|')\n",
        "plt.xlabel(r'$f$[Hz]',fontsize = 14)\n",
        "plt.ylabel(r'$|X[n]|$',fontsize = 14)\n",
        "plt.axis('tight')\n",
        "plt.grid()\n",
        "plt.show()\n",
        "plt.stem(vf,abs(Xw)/len(vf),'r')\n",
        "plt.title(r'|X[n]|/K=c_n')\n",
        "plt.xlabel(r'$f$[Hz]',fontsize = 14)\n",
        "plt.ylabel(r'$|X[n]|/K$',fontsize = 14)\n"
      ],
      "execution_count": 0,
      "outputs": [
        {
          "output_type": "stream",
          "text": [
            "/usr/local/lib/python3.6/dist-packages/ipykernel_launcher.py:4: UserWarning: In Matplotlib 3.3 individual lines on a stem plot will be added as a LineCollection instead of individual lines. This significantly improves the performance of a stem plot. To remove this warning and switch to the new behaviour, set the \"use_line_collection\" keyword argument to True.\n",
            "  after removing the cwd from sys.path.\n"
          ],
          "name": "stderr"
        },
        {
          "output_type": "display_data",
          "data": {
            "image/png": "[encoded data removed]",
            "text/plain": [
              "<Figure size 432x288 with 1 Axes>"
            ]
          },
          "metadata": {
            "tags": [],
            "needs_background": "light"
          }
        },
        {
          "output_type": "stream",
          "text": [
            "/usr/local/lib/python3.6/dist-packages/ipykernel_launcher.py:11: UserWarning: In Matplotlib 3.3 individual lines on a stem plot will be added as a LineCollection instead of individual lines. This significantly improves the performance of a stem plot. To remove this warning and switch to the new behaviour, set the \"use_line_collection\" keyword argument to True.\n",
            "  # This is added back by InteractiveShellApp.init_path()\n"
          ],
          "name": "stderr"
        },
        {
          "output_type": "execute_result",
          "data": {
            "text/plain": [
              "Text(0, 0.5, '$|X[n]|/K$')"
            ]
          },
          "metadata": {
            "tags": []
          },
          "execution_count": 6
        },
        {
          "output_type": "display_data",
          "data": {
            "image/png": "[encoded data removed]",
            "text/plain": [
              "<Figure size 432x288 with 1 Axes>"
            ]
          },
          "metadata": {
            "tags": [],
            "needs_background": "light"
          }
        }
      ]
    },
    {
      "cell_type": "code",
      "metadata": {
        "id": "rhxjReBNK5rl",
        "colab_type": "code",
        "outputId": "51407d9e-d557-4923-eb01-2bfe38c5a075",
        "colab": {
          "base_uri": "https://localhost:8080/",
          "height": 702
        }
      },
      "source": [
        "#dado que el espectro es simétrico, y aprovechando señales netamente reales\n",
        "#se sugiere utilizar la expresión simplificada rfft\n",
        "\n",
        "vf = np.fft.rfftfreq(len(xo),1/Fs) #calculo vector de frecuencias\n",
        "Xw = np.fft.rfft(xo) #cálculo FFT\n",
        "plt.stem(vf,abs(Xw),'r')\n",
        "plt.title(r'|X[n]|')\n",
        "plt.xlabel(r'$f$[Hz]',fontsize = 14)\n",
        "plt.ylabel(r'$|X[n]|$',fontsize = 14)\n",
        "plt.axis('tight')\n",
        "plt.grid()\n",
        "plt.show()\n",
        "plt.stem(vf,abs(Xw)/(2*len(vf)),'r')\n",
        "plt.title(r'|X[n]|/K=c_n')\n",
        "plt.xlabel(r'$f$[Hz]',fontsize = 14)\n",
        "plt.ylabel(r'$|X[n]|/K$',fontsize = 14)\n"
      ],
      "execution_count": 0,
      "outputs": [
        {
          "output_type": "stream",
          "text": [
            "/usr/local/lib/python3.6/dist-packages/ipykernel_launcher.py:4: UserWarning: In Matplotlib 3.3 individual lines on a stem plot will be added as a LineCollection instead of individual lines. This significantly improves the performance of a stem plot. To remove this warning and switch to the new behaviour, set the \"use_line_collection\" keyword argument to True.\n",
            "  after removing the cwd from sys.path.\n"
          ],
          "name": "stderr"
        },
        {
          "output_type": "display_data",
          "data": {
            "image/png": "[encoded data removed]",
            "text/plain": [
              "<Figure size 432x288 with 1 Axes>"
            ]
          },
          "metadata": {
            "tags": [],
            "needs_background": "light"
          }
        },
        {
          "output_type": "stream",
          "text": [
            "/usr/local/lib/python3.6/dist-packages/ipykernel_launcher.py:11: UserWarning: In Matplotlib 3.3 individual lines on a stem plot will be added as a LineCollection instead of individual lines. This significantly improves the performance of a stem plot. To remove this warning and switch to the new behaviour, set the \"use_line_collection\" keyword argument to True.\n",
            "  # This is added back by InteractiveShellApp.init_path()\n"
          ],
          "name": "stderr"
        },
        {
          "output_type": "execute_result",
          "data": {
            "text/plain": [
              "Text(0, 0.5, '$|X[n]|/K$')"
            ]
          },
          "metadata": {
            "tags": []
          },
          "execution_count": 7
        },
        {
          "output_type": "display_data",
          "data": {
            "image/png": "[encoded data removed]",
            "text/plain": [
              "<Figure size 432x288 with 1 Axes>"
            ]
          },
          "metadata": {
            "tags": [],
            "needs_background": "light"
          }
        }
      ]
    },
    {
      "cell_type": "code",
      "metadata": {
        "id": "C3av7Tq9K5rp",
        "colab_type": "code",
        "outputId": "6a360b31-80e7-4caa-dd14-a977937b4199",
        "colab": {
          "base_uri": "https://localhost:8080/",
          "height": 553
        }
      },
      "source": [
        "#la reconstrucción de x[k] se puede obtener mediante la transformada inversa\n",
        "xe = np.fft.irfft(Xw)\n",
        "plt.plot(tv,xe)\n",
        "plt.title(r'Reconstrucción completa')\n",
        "plt.xlabel(r't',fontsize = 14)\n",
        "plt.ylabel(r'$x[n]$',fontsize = 14)\n",
        "plt.show()\n",
        "#se pueden escoger o ponderar los coeficientes para filtrar (alterar) la reconstrucción\n",
        "ind = range(10,750)\n",
        "Xwf = Xw.copy()\n",
        "Xwf[ind] = 0\n",
        "xe2 = np.fft.irfft(Xwf)\n",
        "plt.plot(tv,xe2)\n",
        "plt.show()\n"
      ],
      "execution_count": 0,
      "outputs": [
        {
          "output_type": "display_data",
          "data": {
            "image/png": "[encoded data removed]",
            "text/plain": [
              "<Figure size 432x288 with 1 Axes>"
            ]
          },
          "metadata": {
            "tags": [],
            "needs_background": "light"
          }
        },
        {
          "output_type": "display_data",
          "data": {
            "image/png": "[encoded data removed]",
            "text/plain": [
              "<Figure size 432x288 with 1 Axes>"
            ]
          },
          "metadata": {
            "tags": [],
            "needs_background": "light"
          }
        }
      ]
    },
    {
      "cell_type": "markdown",
      "metadata": {
        "id": "_MrSXF7hK5rv",
        "colab_type": "text"
      },
      "source": [
        "# Ejemplo FFT con señal de audio\n",
        "\n"
      ]
    },
    {
      "cell_type": "markdown",
      "metadata": {
        "id": "c3eTRNkOK5rw",
        "colab_type": "text"
      },
      "source": [
        "Audio a procesar (el archivo debe estar en la carpeta directorio del cuaderno):\n",
        "\n",
        "<audio src=\"Queens_Of_The_Stone_Age_Little_Sister.mp3\" controls>Your browser does not support the audio element.</audio>\n",
        "[Queens_Of_The_Stone_Age_Little_Sister.mp3](Queens_Of_The_Stone_Age_Little_Sister.mp3)"
      ]
    },
    {
      "cell_type": "code",
      "metadata": {
        "id": "TmhwBQJxLpbS",
        "colab_type": "code",
        "outputId": "e7fe974c-7774-45ad-efbf-0fbdcda134ae",
        "colab": {
          "base_uri": "https://localhost:8080/",
          "height": 730
        }
      },
      "source": [
        "!ffmpeg -i Queens_Of_The_Stone_Age_Little_Sister.mp3 output.wav "
      ],
      "execution_count": 0,
      "outputs": [
        {
          "output_type": "stream",
          "text": [
            "ffmpeg version 3.4.6-0ubuntu0.18.04.1 Copyright (c) 2000-2019 the FFmpeg developers\n",
            "  built with gcc 7 (Ubuntu 7.3.0-16ubuntu3)\n",
            "  configuration: --prefix=/usr --extra-version=0ubuntu0.18.04.1 --toolchain=hardened --libdir=/usr/lib/x86_64-linux-gnu --incdir=/usr/include/x86_64-linux-gnu --enable-gpl --disable-stripping --enable-avresample --enable-avisynth --enable-gnutls --enable-ladspa --enable-libass --enable-libbluray --enable-libbs2b --enable-libcaca --enable-libcdio --enable-libflite --enable-libfontconfig --enable-libfreetype --enable-libfribidi --enable-libgme --enable-libgsm --enable-libmp3lame --enable-libmysofa --enable-libopenjpeg --enable-libopenmpt --enable-libopus --enable-libpulse --enable-librubberband --enable-librsvg --enable-libshine --enable-libsnappy --enable-libsoxr --enable-libspeex --enable-libssh --enable-libtheora --enable-libtwolame --enable-libvorbis --enable-libvpx --enable-libwavpack --enable-libwebp --enable-libx265 --enable-libxml2 --enable-libxvid --enable-libzmq --enable-libzvbi --enable-omx --enable-openal --enable-opengl --enable-sdl2 --enable-libdc1394 --enable-libdrm --enable-libiec61883 --enable-chromaprint --enable-frei0r --enable-libopencv --enable-libx264 --enable-shared\n",
            "  libavutil      55. 78.100 / 55. 78.100\n",
            "  libavcodec     57.107.100 / 57.107.100\n",
            "  libavformat    57. 83.100 / 57. 83.100\n",
            "  libavdevice    57. 10.100 / 57. 10.100\n",
            "  libavfilter     6.107.100 /  6.107.100\n",
            "  libavresample   3.  7.  0 /  3.  7.  0\n",
            "  libswscale      4.  8.100 /  4.  8.100\n",
            "  libswresample   2.  9.100 /  2.  9.100\n",
            "  libpostproc    54.  7.100 / 54.  7.100\n",
            "Input #0, mp3, from 'Queens_Of_The_Stone_Age_Little_Sister.mp3':\n",
            "  Metadata:\n",
            "    major_brand     : dash\n",
            "    minor_version   : 0\n",
            "    compatible_brands: iso6mp41\n",
            "    title           : Queens Of The Stone Age  Little Sister\n",
            "    artist          : Queens Of The Stone Age  Little Sister\n",
            "    encoder         : Lavf55.33.100\n",
            "  Duration: 00:02:57.55, start: 0.025057, bitrate: 128 kb/s\n",
            "    Stream #0:0: Audio: mp3, 44100 Hz, stereo, s16p, 128 kb/s\n",
            "File 'output.wav' already exists. Overwrite ? [y/N] y\n",
            "Stream mapping:\n",
            "  Stream #0:0 -> #0:0 (mp3 (native) -> pcm_s16le (native))\n",
            "Press [q] to stop, [?] for help\n",
            "Output #0, wav, to 'output.wav':\n",
            "  Metadata:\n",
            "    major_brand     : dash\n",
            "    minor_version   : 0\n",
            "    compatible_brands: iso6mp41\n",
            "    INAM            : Queens Of The Stone Age  Little Sister\n",
            "    IART            : Queens Of The Stone Age  Little Sister\n",
            "    ISFT            : Lavf57.83.100\n",
            "    Stream #0:0: Audio: pcm_s16le ([1][0][0][0] / 0x0001), 44100 Hz, stereo, s16, 1411 kb/s\n",
            "    Metadata:\n",
            "      encoder         : Lavc57.107.100 pcm_s16le\n",
            "size=   30582kB time=00:02:57.52 bitrate=1411.2kbits/s speed= 410x    \n",
            "video:0kB audio:30582kB subtitle:0kB other streams:0kB global headers:0kB muxing overhead: 0.000556%\n"
          ],
          "name": "stdout"
        }
      ]
    },
    {
      "cell_type": "code",
      "metadata": {
        "id": "4TLC8lowL3o6",
        "colab_type": "code",
        "outputId": "8a895af5-ebcf-4f0d-f6c6-6e01a43f8890",
        "colab": {
          "base_uri": "https://localhost:8080/",
          "height": 70
        }
      },
      "source": [
        "!pip install soundfile"
      ],
      "execution_count": 0,
      "outputs": [
        {
          "output_type": "stream",
          "text": [
            "Requirement already satisfied: soundfile in /usr/local/lib/python3.6/dist-packages (0.10.3.post1)\n",
            "Requirement already satisfied: cffi>=1.0 in /usr/local/lib/python3.6/dist-packages (from soundfile) (1.14.0)\n",
            "Requirement already satisfied: pycparser in /usr/local/lib/python3.6/dist-packages (from cffi>=1.0->soundfile) (2.20)\n"
          ],
          "name": "stdout"
        }
      ]
    },
    {
      "cell_type": "code",
      "metadata": {
        "id": "wo0WaxdNK5rx",
        "colab_type": "code",
        "outputId": "3e3f5876-7e64-47db-8ab8-76b76c318d84",
        "colab": {
          "base_uri": "https://localhost:8080/",
          "height": 52
        }
      },
      "source": [
        "#por facilidad de proceso se sugiere utilizar el paquete ffmpeg compilado - \n",
        "#ffmpeg.exe debe estar en el directorio actual para convertir los archivos\n",
        "#de audio a .wav\n",
        "#link descarga ffmpeg: https://ffmpeg.zeranoe.com/builds/\n",
        "'''\n",
        "import os\n",
        "nombre_in = \"Queens_Of_The_Stone_Age_Little_Sister.mp3\"\n",
        "nombre_out = \"output.wav\"\n",
        "command_consola = \"ffmpeg -i \" + nombre_in +\" \"+ nombre_out\n",
        "os.system(command_consola)\n",
        "'''\n",
        "import soundfile as sf # para instalar pip install soundfile \n",
        "#lee archivos wav\n",
        "nombre_out = \"output.wav\"\n",
        "x, fs = sf.read(nombre_out)\n",
        "\n",
        "# read speech signal from file\n",
        "print('Frecuencia de muestreo %.2f[Hz]\\naudio %s' % (fs,nombre_out))\n",
        "\n"
      ],
      "execution_count": 0,
      "outputs": [
        {
          "output_type": "stream",
          "text": [
            "Frecuencia de muestreo 44100.00[Hz]\n",
            "audio output.wav\n"
          ],
          "name": "stdout"
        }
      ]
    },
    {
      "cell_type": "code",
      "metadata": {
        "id": "Tb6-m9wFK5r1",
        "colab_type": "code",
        "outputId": "b45eae68-11ee-41ae-c9d9-4c5d03aa71a6",
        "colab": {
          "base_uri": "https://localhost:8080/",
          "height": 320
        }
      },
      "source": [
        "xpro = x.copy() #copiar archivos para procesar\n",
        "ti = 10\n",
        "tf = 17\n",
        "xs = xpro[int(ti*fs):int((tf*fs)),:]\n",
        "Xw = np.fft.rfft(xpro,axis=0) # fft por cada columna de xpro\n",
        "vf = np.fft.rfftfreq(np.size(xpro,0),1/fs)\n",
        "plt.plot(vf,abs(Xw))\n",
        "plt.legend(('canal 1','canal 2'))\n",
        "plt.title(r'Espectro audio original')\n",
        "plt.xlabel(r'f[Hz]',fontsize = 14)\n",
        "plt.ylabel(r'$|X[n]|$',fontsize = 14)\n"
      ],
      "execution_count": 0,
      "outputs": [
        {
          "output_type": "execute_result",
          "data": {
            "text/plain": [
              "Text(0, 0.5, '$|X[n]|$')"
            ]
          },
          "metadata": {
            "tags": []
          },
          "execution_count": 18
        },
        {
          "output_type": "display_data",
          "data": {
            "image/png": "[encoded data removed]",
            "text/plain": [
              "<Figure size 432x288 with 1 Axes>"
            ]
          },
          "metadata": {
            "tags": [],
            "needs_background": "light"
          }
        }
      ]
    },
    {
      "cell_type": "code",
      "metadata": {
        "id": "ImndxlmJK5r7",
        "colab_type": "code",
        "outputId": "5121171d-f006-440b-c496-767967839081",
        "colab": {}
      },
      "source": [
        "#filtrar espectro\n",
        "Xwf = Xw.copy()\n",
        "f1 = 100\n",
        "f2 = 800\n",
        "ind = ((vf > f1) & (vf < f2))\n",
        "Xwf[ind,:] = 0\n",
        "plt.plot(vf,abs(Xwf))\n",
        "plt.legend(('canal 1','canal 2'))"
      ],
      "execution_count": 0,
      "outputs": [
        {
          "output_type": "execute_result",
          "data": {
            "text/plain": [
              "<matplotlib.legend.Legend at 0x23a00c82048>"
            ]
          },
          "metadata": {
            "tags": []
          },
          "execution_count": 71
        },
        {
          "output_type": "display_data",
          "data": {
            "image/png": "[encoded data removed]",
            "text/plain": [
              "<Figure size 432x288 with 1 Axes>"
            ]
          },
          "metadata": {
            "tags": [],
            "needs_background": "light"
          }
        }
      ]
    },
    {
      "cell_type": "code",
      "metadata": {
        "id": "wwdabADuK5r_",
        "colab_type": "code",
        "colab": {}
      },
      "source": [
        "xe2 = np.fft.irfft(Xwf,axis=0)\n",
        "\n",
        "#Graficar en el tiempo puede ser muy costoso computacionalmente\n",
        "# muchos puntos\n",
        "\n",
        "#Num = np.size(xpro,0)\n",
        "#T = Num/fs\n",
        "#tc = np.linspace(0,T-1/fs,Num)\n",
        "\n",
        "#plt.plot(tc,xpro)\n",
        "#plt.legend(('canal 1','canal 2'))\n",
        "#plt.title(r'audio original')\n",
        "#plt.xlabel(r't',fontsize = 14)\n",
        "#plt.ylabel(r'$x(t)$',fontsize = 14)\n",
        "#plt.show()\n",
        "\n",
        "\n",
        "#Num = np.size(xe2,0)\n",
        "#T = Num/fs\n",
        "#tc = np.linspace(0,T-1/fs,Num)\n",
        "\n",
        "#plt.plot(tc,xe2)\n",
        "#plt.legend(('canal 1','canal 2'))\n",
        "#plt.title(r'audio filtrado')\n",
        "#plt.xlabel(r't',fontsize = 14)\n",
        "#plt.ylabel(r'$x(t)$',fontsize = 14)\n",
        "#plt.show()\n"
      ],
      "execution_count": 0,
      "outputs": []
    },
    {
      "cell_type": "code",
      "metadata": {
        "id": "QO2j6bdjK5sD",
        "colab_type": "code",
        "outputId": "4d6f782a-6f98-42cf-9f3b-de9d45fbdf39",
        "colab": {}
      },
      "source": [
        "name_out_fil = 'new_file.wav'\n",
        "sf.write(name_out_fil, xe2, fs)\n",
        "print('Audio filtrado\\n')"
      ],
      "execution_count": 0,
      "outputs": [
        {
          "output_type": "stream",
          "text": [
            "Audio filtrado\n",
            "\n"
          ],
          "name": "stdout"
        }
      ]
    },
    {
      "cell_type": "markdown",
      "metadata": {
        "id": "9V2NSTQdK5sG",
        "colab_type": "text"
      },
      "source": [
        "Audio filtrado new_file.wav...:\n",
        "\n",
        "<audio src=\"new_file.wav\" controls>Your browser does not support the audio element.</audio>\n",
        "[new_file.wav](new_file.wav)"
      ]
    },
    {
      "cell_type": "code",
      "metadata": {
        "id": "LcRVBKTJK5sG",
        "colab_type": "code",
        "colab": {}
      },
      "source": [
        ""
      ],
      "execution_count": 0,
      "outputs": []
    }
  ]
}