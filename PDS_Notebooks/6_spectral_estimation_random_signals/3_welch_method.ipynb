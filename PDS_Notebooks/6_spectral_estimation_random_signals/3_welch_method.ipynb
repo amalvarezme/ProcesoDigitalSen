{
 "cells": [
  {
   "cell_type": "markdown",
   "metadata": {
    "nbsphinx": "hidden"
   },
   "source": [
    "# Spectral Estimation of Random Signals\n",
    "\n",
    "*This jupyter notebook is part of a [collection of notebooks](../index.ipynb) on various topics of Digital Signal Processing. Please direct questions and suggestions to [Sascha.Spors@uni-rostock.de](mailto:Sascha.Spors@uni-rostock.de).*"
   ]
  },
  {
   "cell_type": "markdown",
   "metadata": {},
   "source": [
    "## The Welch Method\n",
    "\n",
    "In the previous section it has been shown that the [periodogram](periodogram.ipynb) as a non-parametric estimator of the power spectral density (PSD) $\\Phi_{xx}(\\mathrm{e}^{\\,\\mathrm{j}\\,\\Omega})$ of a random signal $x[k]$ is not consistent. This is due to the fact that its variance does not converge towards zero even when the length of the random signal is increased towards infinity. In order to overcome this problem, the [Bartlett method](https://en.wikipedia.org/wiki/Bartlett's_method) and [Welch method](https://en.wikipedia.org/wiki/Welch's_method) \n",
    "\n",
    "1. split the random signal into segments, \n",
    "2. estimate the PSD for each segment, and \n",
    "3. average over these local estimates. \n",
    "\n",
    "The averaging reduces the variance of the estimated PSD. While Barlett's method uses non-overlapping segments, Welch's is a generalization using windowed overlapping segments. For the discussion of Welch's method we assume a wide-sense ergodic real-valued random process."
   ]
  },
  {
   "cell_type": "markdown",
   "metadata": {},
   "source": [
    "### Derivation\n",
    "\n",
    "The random signal $x[k]$ is split into into $L$ overlapping segments of length $N$, starting at multiples of the step size $M \\in {1,2, \\dots, N}$. These segments are windowed by the window $w[k]$ of length $N$, resulting in a windowed $l$-th segment $x_l[k]$ with $0\\leq l\\leq L-1$. The discrete-time Fourier transformation (DTFT) $X_l(\\mathrm{e}^{\\,\\mathrm{j}\\,\\Omega})$ of the windowed $l$-th segment is then given as \n",
    "\n",
    "\\begin{equation}\n",
    "X_l(\\mathrm{e}^{\\,\\mathrm{j}\\,\\Omega}) = \\sum_{k = 0}^{N-1} x[k + l \\cdot M] \\, w[k] \\; \\mathrm{e}^{\\,-\\mathrm{j}\\,\\Omega\\,k}\n",
    "\\end{equation}\n",
    "\n",
    "where the window $w[k]$ defined within $0\\leq k\\leq N-1$ should be normalized as $\\frac{1}{N} \\sum\\limits_{k=0}^{N-1} | w[k] |^2 = 1$. The latter condition ensures that the power of the signal is maintained in the estimate. The stepsize $M$ determines the overlap between the segments. In general, $N-M$ number of samples overlap between adjacent segments. For $M = N$ no overlap occurs. The overlap is sometimes given as ratio $\\frac{N-M}{N}\\cdot 100\\%$. \n",
    "\n",
    "Introducing $X_l(\\mathrm{e}^{\\,\\mathrm{j}\\,\\Omega})$ into the definition of the periodogram yields the periodogram of the $l$-th segment\n",
    "\n",
    "\\begin{equation}\n",
    "\\hat{\\Phi}_{xx,l}(\\mathrm{e}^{\\,\\mathrm{j}\\,\\Omega}) = \\frac{1}{N} \\,| X_l(\\mathrm{e}^{\\,\\mathrm{j}\\,\\Omega}) |^2\n",
    "\\end{equation}\n",
    "\n",
    "The estimated PSD is then given by averaging over the segment's periodograms $\\hat{\\Phi}_{xx,l}(\\mathrm{e}^{\\,\\mathrm{j}\\,\\Omega})$ \n",
    "\n",
    "\\begin{equation}\n",
    "\\hat{\\Phi}_{xx}(\\mathrm{e}^{\\,\\mathrm{j}\\,\\Omega}) = \\frac{1}{L} \\sum_{l = 0}^{L-1} \\hat{\\Phi}_{xx,l}(\\mathrm{e}^{\\,\\mathrm{j}\\,\\Omega})\n",
    "\\end{equation}\n",
    "\n",
    "Note, that the total number $L$ of segments has to be chosen such that the last required sample $(L-1)\\cdot M + N - 1$ does not exceed the total length of the random signal. Otherwise the last segment $x_{L-1}[k]$ may be zeropadded towards length $N$.\n",
    "\n",
    "The Bartlett method uses a rectangular window $w[k] = \\text{rect}_N[k]$ and non-overlapping segments $M=N$. The Welch method uses overlapping segments and a window that must be chosen according to the intended spectral analysis task."
   ]
  },
  {
   "cell_type": "markdown",
   "metadata": {},
   "source": [
    "### Example\n",
    "\n",
    "The following example is equivalent to the previous [periodogram example](periodogram.ipynb#Example---Periodogram). We aim at estimating the PSD of a random process which draws samples from normally distributed white noise with zero-mean and unit variance. The true PSD is consequently given as $\\Phi_{xx}(\\mathrm{e}^{\\,\\mathrm{j}\\,\\Omega}) = 1$."
   ]
  },
  {
   "cell_type": "code",
   "execution_count": 1,
   "metadata": {},
   "outputs": [
    {
     "name": "stdout",
     "output_type": "stream",
     "text": [
      "Mean value of the periodogram: 0.988585\n"
     ]
    },
    {
     "data": {
      "image/png": "[encoded data removed]",
      "text/plain": [
       "<Figure size 720x288 with 1 Axes>"
      ]
     },
     "metadata": {},
     "output_type": "display_data"
    }
   ],
   "source": [
    "%matplotlib inline\n",
    "import numpy as np\n",
    "import matplotlib.pyplot as plt\n",
    "import scipy.signal as sig\n",
    "\n",
    "N = 128  # length of segment\n",
    "M = 64  # stepsize\n",
    "L = 100  # total number of segments\n",
    "\n",
    "# generate random signal\n",
    "np.random.seed(5)\n",
    "x = np.random.normal(size=L*M)\n",
    "\n",
    "# compute periodogram by Welch's method\n",
    "nf, Pxx = sig.welch(x, window='hamming', nperseg=N, noverlap=(N-M))\n",
    "Pxx = .5*Pxx  # due to normalization in scipy.signal\n",
    "Om = 2*np.pi*nf\n",
    "\n",
    "# plot results\n",
    "plt.figure(figsize=(10,4))\n",
    "plt.stem(Om, Pxx, 'b', label=r'$\\hat{\\Phi}_{xx}(e^{j \\Omega})$', basefmt=' ')\n",
    "plt.plot(Om, np.ones_like(Pxx), 'r', label=r'$\\Phi_{xx}(e^{j \\Omega})$')\n",
    "plt.title('Estimated and true PSD')\n",
    "plt.xlabel(r'$\\Omega$')\n",
    "plt.axis([0, np.pi, 0, 2])\n",
    "plt.legend()\n",
    "\n",
    "# compute mean value of the periodogram\n",
    "print('Mean value of the periodogram: %f' %np.mean(np.abs(Pxx)))"
   ]
  },
  {
   "cell_type": "markdown",
   "metadata": {},
   "source": [
    "**Exercise**\n",
    "\n",
    "* Compare the results to the periodogram example. Is the variance of the estimator lower?\n",
    "* Change the number of segments `L`. What changes?\n",
    "* Change the segment length `N` and stepsize `M`. What changes?\n",
    "\n",
    "Solution: When comparing both the estimates of the PSD in the previous periodogram and above example, it is obvious that the variance of the Welch estimator is lower. Increasing the number of segments `L` lowers the variance further. Increasing the segment length `N` increases the total number of discrete frequencies in the estimated PSD. Since in above example the total number of segments is kept constant, the variance increases. Lowering the stepsize `M` has the same result, since the total number of samples is reduced for a fixed number of segments."
   ]
  },
  {
   "cell_type": "markdown",
   "metadata": {},
   "source": [
    "### Evaluation\n",
    "\n",
    "It is shown in [[Stoica et al.](../index.ipynb#Literature)] that Welch's method is asymptotically unbiased. Under the assumption of a wide-sense stationary (WSS) random process, the periodograms $\\hat{\\Phi}_{xx,l}(e^{j \\Omega})$ of the segments can be assumed to be approximately uncorrelated. Hence, averaging over these reduces the overall variance of the estimator. It can be shown formally that in the limiting case of an infinitely number of segments (infintely long signal) the variance tends towards zero. As a result Welch's method is an asymptotically consistent estimator of the PSD. \n",
    "\n",
    "Note, that for a finite segment length $N$ the properties of the estimated PSD $\\hat{\\Phi}_{xx}(e^{j \\Omega})$ depend on the length $N$ of the segments and the window function $w[k]$ due to the [leakage effect](../spectral_analysis_deterministic_signals/leakage_effect.ipynb)."
   ]
  },
  {
   "cell_type": "markdown",
   "metadata": {
    "nbsphinx": "hidden"
   },
   "source": [
    "**Copyright**\n",
    "\n",
    "This notebook is provided as [Open Educational Resource](https://en.wikipedia.org/wiki/Open_educational_resources). Feel free to use the notebook for your own purposes. The text is licensed under [Creative Commons Attribution 4.0](https://creativecommons.org/licenses/by/4.0/), the code of the IPython examples under the [MIT license](https://opensource.org/licenses/MIT). Please attribute the work as follows: *Sascha Spors, Digital Signal Processing - Lecture notes featuring computational examples, 2016-2018*."
   ]
  }
 ],
 "metadata": {
  "anaconda-cloud": {},
  "kernelspec": {
   "display_name": "Python 3",
   "language": "python",
   "name": "python3"
  },
  "language_info": {
   "codemirror_mode": {
    "name": "ipython",
    "version": 3
   },
   "file_extension": ".py",
   "mimetype": "text/x-python",
   "name": "python",
   "nbconvert_exporter": "python",
   "pygments_lexer": "ipython3",
   "version": "3.6.4"
  }
 },
 "nbformat": 4,
 "nbformat_minor": 1
}
