{
 "cells": [
  {
   "cell_type": "markdown",
   "metadata": {
    "nbsphinx": "hidden"
   },
   "source": [
    "# Random Signals\n",
    "\n",
    "*This jupyter notebook is part of a [collection of notebooks](../index.ipynb) on various topics of Digital Signal Processing. Please direct questions and suggestions to [Sascha.Spors@uni-rostock.de](mailto:Sascha.Spors@uni-rostock.de).*"
   ]
  },
  {
   "cell_type": "markdown",
   "metadata": {},
   "source": [
    "## Cumulative Distribution Functions\n",
    "\n",
    "A random process can be characterized by the statistical properties of its amplitude values. [Cumulative distribution functions](https://en.wikipedia.org/wiki/Cumulative_distribution_function) (CDFs) are one possibility to do so."
   ]
  },
  {
   "cell_type": "markdown",
   "metadata": {},
   "source": [
    "### Univariate Cumulative Distribution Function\n",
    "\n",
    "The univariate CDF $P_x(\\theta, k)$ of a continuous-amplitude real-valued random signal $x[k]$ is defined as\n",
    "\n",
    "\\begin{equation}\n",
    "P_x(\\theta, k) := \\Pr \\{ x[k] \\leq \\theta\\}\n",
    "\\end{equation}\n",
    "\n",
    "where $\\Pr \\{ \\cdot \\}$ denotes the probability that the given condition holds. The univariate CDF quantifies the probability that for the entire ensemble and for a fixed time index $k$ the amplitude $x[k]$ is smaller or equal to $\\theta$. The term '*univariate*' reflects the fact that only one random process is considered.\n",
    "\n",
    "The CDF shows the following properties which can be concluded directly from its definition\n",
    "\n",
    "\\begin{equation}\n",
    "\\lim_{\\theta \\to -\\infty} P_x(\\theta, k) = 0\n",
    "\\end{equation}\n",
    "\n",
    "and\n",
    "\n",
    "\\begin{equation}\n",
    "\\lim_{\\theta \\to \\infty} P_x(\\theta, k) = 1\n",
    "\\end{equation}\n",
    "\n",
    "The former property results from the fact that all amplitude values $x[k]$ are larger than $- \\infty$, the latter from the fact that all amplitude values lie within $- \\infty$ and $\\infty$. The univariate CDF $P_x(\\theta, k)$ is furthermore a non-decreasing function\n",
    "\n",
    "\\begin{equation}\n",
    "P_x(\\theta_1, k) \\leq  P_x(\\theta_2, k) \\quad \\text{for } \\theta_1 \\leq \\theta_2\n",
    "\\end{equation}\n",
    "\n",
    "\n",
    "The probability that $\\theta_1 < x[k] \\leq \\theta_2$ is given as\n",
    "\n",
    "\\begin{equation}\n",
    "\\Pr \\{\\theta_1 < x[k] \\leq \\theta_2\\} = P_x(\\theta_2, k) - P_x(\\theta_1, k)\n",
    "\\end{equation}\n",
    "\n",
    "Hence, the probability that a continuous-amplitude random signal takes a specific value $x[k]=\\theta$ is zero when calculated by means of the CDF. This motivates the definition of probability density functions introduced later."
   ]
  },
  {
   "cell_type": "markdown",
   "metadata": {},
   "source": [
    "### Bivariate Cumulative Distribution Function\n",
    "\n",
    "The statistical dependencies between two signals are frequently of interest in statistical signal processing. The bivariate or joint CDF $P_{xy}(\\theta_x, \\theta_y, k_x, k_y)$ of two continuous-amplitude real-valued random signals $x[k]$ and $y[k]$ is defined as\n",
    "\n",
    "\\begin{equation}\n",
    "P_{xy}(\\theta_x, \\theta_y, k_x, k_y) := \\Pr \\{ x[k_x] \\leq \\theta_x  \\wedge y[k_y] \\leq \\theta_y  \\}\n",
    "\\end{equation}\n",
    "\n",
    "The joint CDF quantifies the probability for the entire ensemble of sample functions that for a fixed $k_x$ the amplitude value $x[k_x]$ is smaller or equal to $\\theta_x$ and that for a fixed $k_y$ the amplitude value $y[k_y]$ is smaller or equal to $\\theta_y$. The term '*bivariate*' reflects the fact that two random processes are considered. The following properties can be concluded from its definition\n",
    "\n",
    "\\begin{align}\n",
    "\\lim_{\\theta_x \\to -\\infty} P_{xy}(\\theta_x, \\theta_y, k_x, k_y) &= 0 \\\\\n",
    "\\lim_{\\theta_y \\to -\\infty} P_{xy}(\\theta_x, \\theta_y, k_x, k_y) &= 0\n",
    "\\end{align}\n",
    "\n",
    "and\n",
    "\n",
    "\\begin{equation}\n",
    "\\lim_{\\substack{\\theta_x \\to \\infty \\\\ \\theta_y \\to \\infty}} P_{xy}(\\theta_x, \\theta_y, k_x, k_y) = 1\n",
    "\\end{equation}\n",
    "\n",
    "The bivariate CDF can also be used to characterize the statistical properties of one random signal $x[k]$ at two different time-instants $k_x$ and $k_y$ by setting $y[k] = x[k]$\n",
    "\n",
    "\\begin{equation}\n",
    "P_{xx}(\\theta_1, \\theta_2, k_1, k_2) := \\Pr \\{ x[k_1] \\leq \\theta_1  \\wedge y[k_2] \\leq \\theta_2  \\}\n",
    "\\end{equation}\n",
    "\n",
    "The definition of the bivariate CDF can be extended straightforward to the case of more than two random variables. The resulting CDF is termed as multivariate CDF."
   ]
  },
  {
   "cell_type": "markdown",
   "metadata": {},
   "source": [
    "## Probability Density Functions\n",
    "\n",
    "[Probability density functions](https://en.wikipedia.org/wiki/Probability_density_function) (PDFs) describe the probability for one or multiple random signals to take on a specific value. Again the univariate case is discussed first."
   ]
  },
  {
   "cell_type": "markdown",
   "metadata": {},
   "source": [
    "### Univariate Probability Density Function\n",
    "\n",
    "The univariate PDF $p_x(\\theta, k)$ of a continuous-amplitude real-valued random signal $x[k]$ is defined as the derivative of the univariate CDF\n",
    "\n",
    "\\begin{equation}\n",
    "p_x(\\theta, k) = \\frac{\\partial}{\\partial \\theta} P_x(\\theta, k)\n",
    "\\end{equation}\n",
    "\n",
    "This can be seen as the differential equivalent of the limit case $\\lim_{\\theta_2 \\to \\theta_1} \\Pr \\{\\theta_1 < x[k] \\leq \\theta_2\\}$. As a consequence of above definition, the CDF can be computed from the PDF by integration\n",
    "\n",
    "\\begin{equation}\n",
    "P_x(\\theta, k) = \\int\\limits_{-\\infty}^{\\theta} p_x(\\alpha, k) \\, \\mathrm{d}\\alpha\n",
    "\\end{equation}\n",
    "\n",
    "\n",
    "Due to the properties of the CDF and its definition, the PDF shows the following properties\n",
    "\n",
    "\\begin{equation}\n",
    "p_x(\\theta, k) \\geq 0\n",
    "\\end{equation}\n",
    "\n",
    "and\n",
    "\n",
    "\\begin{equation}\n",
    "\\int\\limits_{-\\infty}^{\\infty} p_x(\\theta, k) \\, \\mathrm{d}\\theta = \\lim_{\\theta \\to \\infty} P_x(\\theta, k) = 1\n",
    "\\end{equation}\n",
    "\n",
    "The univariate PDF has only positive values and the area below the PDF is equal to one. The latter property may be used for normalization."
   ]
  },
  {
   "cell_type": "markdown",
   "metadata": {},
   "source": [
    "#### Example - Estimate of an univariate PDF by the histogram\n",
    "\n",
    "In the process of calculating a [histogram](https://en.wikipedia.org/wiki/Histogram), the entire range of amplitude values of a random signal is split into a series of intervals (bins). For a given random signal the number of samples is counted which fall into one of these intervals. This is repeated for all intervals. The counts are finally normalized with respect to the total number of samples. This process constitutes a numerical estimation of the PDF of a random process.\n",
    "\n",
    "In the following example the histogram of an ensemble of random signals is computed for each time index $k$. The CDF is computed by taking the cumulative sum over the histogram bins. This constitutes a numerical approximation of above integral\n",
    "\n",
    "\\begin{equation}\n",
    "\\int\\limits_{-\\infty}^{\\theta} p_x(\\alpha, k) \\, \\mathrm{d}\\alpha \\approx \\sum_{i=0}^{N} p_x(\\theta_i, k) \\, \\Delta\\theta_i\n",
    "\\end{equation}\n",
    "\n",
    "where $p_x(\\theta_i, k)$ denotes the $i$-th bin of the PDF and $\\Delta\\theta_i$ its width."
   ]
  },
  {
   "cell_type": "code",
   "execution_count": 1,
   "metadata": {},
   "outputs": [
    {
     "data": {
      "image/png": "[encoded data removed]",
      "text/plain": [
       "<Figure size 720x432 with 2 Axes>"
      ]
     },
     "metadata": {},
     "output_type": "display_data"
    },
    {
     "data": {
      "image/png": "[encoded data removed]",
      "text/plain": [
       "<Figure size 720x432 with 2 Axes>"
      ]
     },
     "metadata": {},
     "output_type": "display_data"
    }
   ],
   "source": [
    "%matplotlib inline\n",
    "import numpy as np\n",
    "import matplotlib.pyplot as plt\n",
    "\n",
    "K = 32  # number of temporal samples\n",
    "N = 10000  # number of sample functions\n",
    "bins = 100  # number of bins for the histogram\n",
    "\n",
    "\n",
    "# draw sample functions from a random process\n",
    "np.random.seed(2)\n",
    "x = np.random.normal(size=(N, K))\n",
    "x += np.tile(np.cos(2*np.pi/K*np.arange(K)), [N, 1])\n",
    "\n",
    "# compute the histogram\n",
    "px = np.zeros((bins, K))\n",
    "for k in range(K):\n",
    "    px[:, k], edges = np.histogram(x[:, k], bins=bins, range=(-4,4), density=True)\n",
    "    \n",
    "# compute the CDF\n",
    "Px = np.cumsum(px, axis=0) * 8/bins\n",
    "\n",
    "# plot the PDF\n",
    "plt.figure(figsize=(10,6))\n",
    "plt.pcolor(np.arange(K), edges, px)\n",
    "plt.title(r'Estimated PDF $\\hat{p}_x(\\theta, k)$')\n",
    "plt.xlabel(r'$k$')\n",
    "plt.ylabel(r'$\\theta$')\n",
    "plt.colorbar()\n",
    "plt.autoscale(tight=True)\n",
    "\n",
    "# plot the CDF\n",
    "plt.figure(figsize=(10,6))\n",
    "plt.pcolor(np.arange(K), edges, Px, vmin=0, vmax=1)\n",
    "plt.title(r'Estimated CDF $\\hat{P}_x(\\theta, k)$')\n",
    "plt.xlabel(r'$k$')\n",
    "plt.ylabel(r'$\\theta$')\n",
    "plt.colorbar()\n",
    "plt.autoscale(tight=True)"
   ]
  },
  {
   "cell_type": "markdown",
   "metadata": {},
   "source": [
    "**Exercise**\n",
    "\n",
    "* Change the number of sample functions `N` or/and the number of `bins` and rerun the examples. What changes? Why?\n",
    "\n",
    "Solution: In numerical simulations of random processes only a finite number of sample functions and temporal samples can be considered. This holds also for the number of intervals (bins) used for the histogram. As a result, numerical approximations of the CDF/PDF will be subject to statistical uncertainties that typically will become smaller if the number of sample functions `N` is increased."
   ]
  },
  {
   "cell_type": "markdown",
   "metadata": {},
   "source": [
    "### Bivariate Probability Density Function\n",
    "\n",
    "The bivariate or joint PDF $p_{xy}(\\theta_x, \\theta_y, k_x, k_y)$ of two continuous-amplitude real-valued random signals $x[k]$ and $y[k]$ is defined as\n",
    "\n",
    "\\begin{equation}\n",
    "p_{xy}(\\theta_x, \\theta_y, k_x, k_y) := \\frac{\\partial^2}{\\partial \\theta_x \\partial \\theta_y} P_{xy}(\\theta_x, \\theta_y, k_x, k_y)\n",
    "\\end{equation}\n",
    "\n",
    "This constitutes essentially the generalization of the univariate PDF. The bivariate PDF quantifies the joint probability that $x[k]$ takes the value $\\theta_x$ and that $y[k]$ takes the value $\\theta_y$ for the entire ensemble of sample functions. Analogous to the univariate case, the bivariate CDF is given by integration\n",
    "\n",
    "\\begin{equation}\n",
    "P_{xy}(\\theta_x, \\theta_y, k_x, k_y) = \\int\\limits_{-\\infty}^{\\theta_x} \\int\\limits_{-\\infty}^{\\theta_y} p_{xy}(\\alpha, \\beta, k_x, k_y) \\, \\mathrm{d}\\alpha \\mathrm{d}\\beta\n",
    "\\end{equation}\n",
    "\n",
    "Due to the properties of the bivariate CDF and its definition the bivariate PDF shows the following properties\n",
    "\n",
    "\\begin{equation}\n",
    "p_{xy}(\\theta_x, \\theta_y, k_x, k_y) \\geq 0\n",
    "\\end{equation}\n",
    "\n",
    "and\n",
    "\n",
    "\\begin{equation}\n",
    "\\int_{-\\infty}^{\\infty} \\int_{-\\infty}^{\\infty} p_{xy}(\\theta_x, \\theta_y, k_x, k_y) \\, \\mathrm{d}\\theta_x \\mathrm{d}\\theta_y = 1\n",
    "\\end{equation}\n",
    "\n",
    "For the special case of one signal only, the bivariate PDF \n",
    "\n",
    "\\begin{equation}\n",
    "p_{xx}(\\theta_1, \\theta_2, k_1, k_2) := \\frac{\\partial^2}{\\partial \\theta_1 \\partial \\theta_2} P_{xx}(\\theta_1, \\theta_2, k_1, k_2)\n",
    "\\end{equation}\n",
    "\n",
    "describes the probability that the random signal $x[k]$ takes the values $\\theta_1$ at time instance $k_1$ and $\\theta_2$ at time instance $k_2$. Hence, $p_{xx}(\\theta_1, \\theta_2, k_1, k_2)$ provides insights into the temporal dependencies of the amplitudes of the random signal $x[k]$."
   ]
  },
  {
   "cell_type": "markdown",
   "metadata": {
    "nbsphinx": "hidden"
   },
   "source": [
    "This notebook is provided as [Open Educational Resource](https://en.wikipedia.org/wiki/Open_educational_resources). Feel free to use the notebook for your own purposes. The text is licensed under [Creative Commons Attribution 4.0](https://creativecommons.org/licenses/by/4.0/), the code of the IPython examples under the [MIT license](https://opensource.org/licenses/MIT). Please attribute the work as follows: *Sascha Spors, Digital Signal Processing - Lecture notes featuring computational examples, 2016*."
   ]
  }
 ],
 "metadata": {
  "kernelspec": {
   "display_name": "Python 3",
   "language": "python",
   "name": "python3"
  },
  "language_info": {
   "codemirror_mode": {
    "name": "ipython",
    "version": 3
   },
   "file_extension": ".py",
   "mimetype": "text/x-python",
   "name": "python",
   "nbconvert_exporter": "python",
   "pygments_lexer": "ipython3",
   "version": "3.7.1"
  }
 },
 "nbformat": 4,
 "nbformat_minor": 1
}
