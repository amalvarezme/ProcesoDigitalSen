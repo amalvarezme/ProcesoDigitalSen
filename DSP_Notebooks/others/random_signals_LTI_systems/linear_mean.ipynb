{
 "cells": [
  {
   "cell_type": "markdown",
   "metadata": {
    "nbsphinx": "hidden"
   },
   "source": [
    "# Random Signals and LTI-Systems\n",
    "\n",
    "*This jupyter notebook is part of a [collection of notebooks](../index.ipynb) on various topics of Digital Signal Processing. Please direct questions and suggestions to [Sascha.Spors@uni-rostock.de](mailto:Sascha.Spors@uni-rostock.de).*"
   ]
  },
  {
   "cell_type": "markdown",
   "metadata": {},
   "source": [
    "## Linear Mean\n",
    "\n",
    "In the following we aim at finding a relation between the linear mean $\\mu_x[k]$ of the input signal $x[k]$ and the linear mean $\\mu_y[k]$ of the output signal $y[k] = \\mathcal{H} \\{ x[k] \\}$ of a linear time-invariant (LTI) system."
   ]
  },
  {
   "cell_type": "markdown",
   "metadata": {},
   "source": [
    "### Non-Stationary Input Signal\n",
    "\n",
    "Let's first impose no restrictions in terms of stationarity to the input signal. The [linear mean](../random_signals/ensemble_averages.ipynb#Linear-mean) of the output signal is then given as\n",
    "\n",
    "\\begin{equation}\n",
    "\\mu_y[k] = E\\{ y[k] \\} = E\\{ x[k] * h[k] \\}\n",
    "\\end{equation}\n",
    "\n",
    "where $h[k]$ denotes the impulse response of the system. Since the convolution and the ensemble average are linear operations, and $h[k]$ is a deterministic signal, this can be rewritten as\n",
    "\n",
    "\\begin{equation}\n",
    "\\mu_y[k] = \\mu_x[k] * h[k]\n",
    "\\end{equation}\n",
    "\n",
    "The linear mean of the output signal $\\mu_y[k]$ is given as the convolution of the linear mean of the input signal $\\mu_x[k]$ with the impulse response $h[k]$ of the system."
   ]
  },
  {
   "cell_type": "markdown",
   "metadata": {},
   "source": [
    "#### Example\n",
    "\n",
    "The linear mean $\\mu_y[k]$ of the output of an LTI system with given impulse response $h[k]$ and non-stationary random input signal $x[k]$ is computed. The estimated linear means $\\hat{\\mu}_x[k]$ and $\\hat{\\mu}_y[k]$ of the input and output signals are plotted."
   ]
  },
  {
   "cell_type": "code",
   "execution_count": 1,
   "metadata": {},
   "outputs": [
    {
     "data": {
      "image/png": "[encoded data removed]",
      "text/plain": [
       "<Figure size 720x216 with 1 Axes>"
      ]
     },
     "metadata": {},
     "output_type": "display_data"
    },
    {
     "data": {
      "image/png": "[encoded data removed]",
      "text/plain": [
       "<Figure size 720x216 with 1 Axes>"
      ]
     },
     "metadata": {},
     "output_type": "display_data"
    }
   ],
   "source": [
    "%matplotlib inline\n",
    "import numpy as np\n",
    "import matplotlib.pyplot as plt\n",
    "\n",
    "L = 32  # number of random samples\n",
    "N = 10000  # number of sample functions\n",
    "\n",
    "# generate input signal (white Gaussian noise)\n",
    "np.random.seed(2)\n",
    "x = np.random.normal(size=(N, L))\n",
    "x[:, L//2] += 1 \n",
    "# generate output signal\n",
    "h = 2*np.fft.irfft([1,1,1,0,0,0])\n",
    "y = np.asarray([np.convolve(x[n,:], h, mode='full') for n in range(N)])\n",
    "\n",
    "# estimate and plot linear mean\n",
    "def estimate_plot_linear_mean(x):\n",
    "    # estimate linear mean by ensemble average\n",
    "    mu = 1/N * np.sum(x, 0)\n",
    "    # plot linear mean\n",
    "    plt.stem(mu)\n",
    "    plt.xlabel(r'$k$')\n",
    "    plt.ylabel(r'$\\hat{\\mu}[k]$')\n",
    "    plt.axis([0, x.shape[1], -1.2, 1.2])\n",
    "\n",
    "plt.figure(figsize = (10, 3))\n",
    "plt.title(r'Estimated linear mean $\\hat{\\mu}_x[k]$ of input signal')\n",
    "estimate_plot_linear_mean(x)\n",
    "\n",
    "plt.figure(figsize = (10, 3))\n",
    "plt.title(r'Estimated linear mean $\\hat{\\mu}_y[k]$ of output signal')\n",
    "estimate_plot_linear_mean(y)"
   ]
  },
  {
   "cell_type": "markdown",
   "metadata": {},
   "source": [
    "**Exercise**\n",
    "\n",
    "* Can you estimate the impulse response $h[k]$ of the system from above plots of $\\hat{\\mu}_x[k]$ and $\\hat{\\mu}_y[k]$?\n",
    "* You can check your results by plotting the impulse response $h[k]$, for instance with the command `plt.stem(h)`.\n",
    "\n",
    "Solution: Inspecting above plot, the linear mean of the input signal can be approximated as $\\mu_x[k] = \\delta[k]$. The linear mean of the output is then given as $\\mu_y[k] = \\delta[k] * h[k] = h[k]$. It follows that the impulse response of the LTI system can be estimated from the linear mean $\\mu_y[k]$."
   ]
  },
  {
   "cell_type": "markdown",
   "metadata": {},
   "source": [
    "### Stationary Input Signal\n",
    "\n",
    "For a (wide-sense) stationary process, the linear mean of the input signal $\\mu_x[k] = \\mu_x$ does not depend on the time index $k$. For a (wide-sense) stationary input signal, also the output signal of the system is (wide-sense) stationary. Using the result for the non-stationary case above yields\n",
    "\n",
    "\\begin{align}\n",
    "\\mu_y &= \\mu_x * h[k] \\\\\n",
    "&= \\sum_{\\kappa = -\\infty}^{\\infty}\\mu_x[k-\\kappa]h[\\kappa] \\\\\n",
    "&= \\mu_x \\cdot \\sum_{\\kappa = -\\infty}^{\\infty}h[\\kappa] \\\\\n",
    "&= \\mu_x \\cdot \\sum_{\\kappa = -\\infty}^{\\infty}h[\\kappa]\\cdot\\mathrm{e}^{-\\mathrm{j}\\Omega\\kappa} \\hspace{5mm} \\text{for}\\,\\,\\Omega=0 \\\\\n",
    "&= \\mu_x \\cdot H(\\mathrm{e}^{\\,\\mathrm{j}\\,\\Omega}) \\big\\vert_{\\Omega = 0}\n",
    "\\end{align}\n",
    "\n",
    "where $H(\\mathrm{e}^{\\,\\mathrm{j}\\,\\Omega}) = \\mathcal{F}_* \\{ h[k] \\}$ denotes the discrete time Fourier transformation (DTFT) of the impulse response. The linear mean of a (wide-sense) stationary input signal is weighted by the transmission characteristics for the constant (i.e. DC, $\\Omega = 0$) component of the LTI system. This implies that for a system which just attenuates the input signal $y[k] = A \\cdot x[k]$, e.g. an ideal amplifier, the linear mean at the output is given as $\\mu_y = A \\cdot \\mu_x$. Furthermore, if the input signal is zero-mean $\\mu_x = 0$, the output signal is also zero-mean $\\mu_y = 0$."
   ]
  },
  {
   "cell_type": "markdown",
   "metadata": {
    "nbsphinx": "hidden"
   },
   "source": [
    "**Copyright**\n",
    "\n",
    "This notebook is provided as [Open Educational Resource](https://en.wikipedia.org/wiki/Open_educational_resources). Feel free to use the notebook for your own purposes. The text is licensed under [Creative Commons Attribution 4.0](https://creativecommons.org/licenses/by/4.0/), the code of the IPython examples under the [MIT license](https://opensource.org/licenses/MIT). Please attribute the work as follows: *Sascha Spors, Digital Signal Processing - Lecture notes featuring computational examples, 2016-2018*."
   ]
  }
 ],
 "metadata": {
  "anaconda-cloud": {},
  "kernelspec": {
   "display_name": "Python 3",
   "language": "python",
   "name": "python3"
  },
  "language_info": {
   "codemirror_mode": {
    "name": "ipython",
    "version": 3
   },
   "file_extension": ".py",
   "mimetype": "text/x-python",
   "name": "python",
   "nbconvert_exporter": "python",
   "pygments_lexer": "ipython3",
   "version": "3.6.4"
  }
 },
 "nbformat": 4,
 "nbformat_minor": 1
}
