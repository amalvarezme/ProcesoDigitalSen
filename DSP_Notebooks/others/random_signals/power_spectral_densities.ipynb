{
  "nbformat": 4,
  "nbformat_minor": 0,
  "metadata": {
    "kernelspec": {
      "display_name": "Python 3",
      "language": "python",
      "name": "python3"
    },
    "language_info": {
      "codemirror_mode": {
        "name": "ipython",
        "version": 3
      },
      "file_extension": ".py",
      "mimetype": "text/x-python",
      "name": "python",
      "nbconvert_exporter": "python",
      "pygments_lexer": "ipython3",
      "version": "3.7.1"
    },
    "colab": {
      "name": "power_spectral_densities.ipynb",
      "provenance": []
    }
  },
  "cells": [
    {
      "cell_type": "markdown",
      "metadata": {
        "nbsphinx": "hidden",
        "id": "SkSkjKqrZecJ"
      },
      "source": [
        "# Random Signals\n",
        "\n",
        "*This jupyter notebook is part of a [collection of notebooks](../index.ipynb) on various topics of Digital Signal Processing. Please direct questions and suggestions to [Sascha.Spors@uni-rostock.de](mailto:Sascha.Spors@uni-rostock.de).*"
      ]
    },
    {
      "cell_type": "markdown",
      "metadata": {
        "id": "gcODYvtYZecL"
      },
      "source": [
        "## Power Spectral Density\n",
        "\n",
        "The (auto-) [power spectral density](https://en.wikipedia.org/wiki/Spectral_density#Power_spectral_density) (PSD) is defined as the Fourier transformation of the [auto-correlation function](correlation_functions.ipynb) (ACF)."
      ]
    },
    {
      "cell_type": "markdown",
      "metadata": {
        "id": "hDLY9V67ZecL"
      },
      "source": [
        "### Definition\n",
        "\n",
        "For a continuous-amplitude real-valued wide-sense stationary (WSS) random signal $x[k]$ the PSD is given as\n",
        "\n",
        "\\begin{equation}\n",
        "\\Phi_{xx}(\\mathrm{e}^{\\,\\mathrm{j}\\,\\Omega}) = \\mathcal{F}_* \\{ \\varphi_{xx}[\\kappa] \\}\n",
        "\\end{equation}\n",
        "\n",
        "where $\\mathcal{F}_* \\{ \\cdot \\}$ denotes the [discrete-time Fourier transformation](https://en.wikipedia.org/wiki/Discrete-time_Fourier_transform) (DTFT) and $\\varphi_{xx}[\\kappa]$ the ACF of $x[k]$. Note, the DTFT is performed with respect to $\\kappa$. The ACF of a random signal of finite length $N$ can be expressed by way of a linear convolution\n",
        "\n",
        "\\begin{equation}\n",
        "\\varphi_{xx}[\\kappa] = \\frac{1}{N} \\cdot x_N[k] * x_N[-k]\n",
        "\\end{equation}\n",
        "\n",
        "Taking the DTFT of the left- and right-hand side results in\n",
        "\n",
        "\\begin{equation}\n",
        "\\Phi_{xx}(\\mathrm{e}^{\\,\\mathrm{j}\\,\\Omega}) = \\frac{1}{N} \\, X_N(\\mathrm{e}^{\\,\\mathrm{j}\\,\\Omega})\\, X_N(\\mathrm{e}^{-\\,\\mathrm{j}\\,\\Omega}) = \n",
        "\\frac{1}{N} \\, | X_N(\\mathrm{e}^{\\,\\mathrm{j}\\,\\Omega}) |^2\n",
        "\\end{equation}\n",
        "\n",
        "The last equality results from the definition of the magnitude and the symmetry of the DTFT for real-valued signals. The spectrum $X_N(\\mathrm{e}^{\\,\\mathrm{j}\\,\\Omega})$ quantifies the amplitude density of the signal $x_N[k]$. It can be concluded from above result that the PSD quantifies the squared amplitude or power density of a random signal. This explains the term power spectral density."
      ]
    },
    {
      "cell_type": "markdown",
      "metadata": {
        "id": "JqMdXjwuZecM"
      },
      "source": [
        "### Properties\n",
        "\n",
        "The properties of the PSD can be deduced from the properties of the ACF and the DTFT as\n",
        "\n",
        "1. From the link between the PSD $\\Phi_{xx}(\\mathrm{e}^{\\,\\mathrm{j}\\,\\Omega})$ and the spectrum $X_N(\\mathrm{e}^{\\,\\mathrm{j}\\,\\Omega})$ derived above it can be concluded that the PSD real valued\n",
        "\n",
        "    $$\\Phi_{xx}(\\mathrm{e}^{\\,\\mathrm{j}\\,\\Omega}) \\in \\mathbb{R}$$\n",
        "\n",
        "2. From the even symmetry $\\varphi_{xx}[\\kappa] = \\varphi_{xx}[-\\kappa]$ of the ACF it follows that\n",
        "\n",
        "    $$ \\Phi_{xx}(\\mathrm{e}^{\\,\\mathrm{j} \\, \\Omega}) = \\Phi_{xx}(\\mathrm{e}^{\\,-\\mathrm{j}\\, \\Omega}) $$\n",
        "\n",
        "3. The PSD of an uncorrelated random signal is given as\n",
        "\n",
        "    $$ \\Phi_{xx}(\\mathrm{e}^{\\,\\mathrm{j} \\, \\Omega}) = \\sigma_x^2 + \\mu_x^2 \\cdot {\\bot \\!\\! \\bot \\!\\! \\bot}\\left( \\frac{\\Omega}{2 \\pi} \\right) $$\n",
        "    \n",
        "    which can be deduced from the [ACF of an uncorrelated signal](correlation_functions.ipynb#Properties).\n",
        "\n",
        "4. The quadratic mean of a random signal is given as\n",
        "\n",
        "    $$ E\\{ x[k]^2 \\} = \\varphi_{xx}[0] = \\frac{1}{2\\pi} \\int\\limits_{-\\pi}^{\\pi} \\Phi_{xx}(\\mathrm{e}^{\\,\\mathrm{j}\\, \\Omega}) \\,\\mathrm{d} \\Omega $$\n",
        "\n",
        "    The last relation can be found by expressing the ACF by the inverse DTFT."
      ]
    },
    {
      "cell_type": "markdown",
      "metadata": {
        "id": "MXDA7zzQZecN"
      },
      "source": [
        "### Example - Power Spectral Density of a Speech Signal\n",
        "\n",
        "In this example the PSD $\\Phi_{xx}(\\mathrm{e}^{\\,\\mathrm{j} \\,\\Omega})$ of a speech signal $x[k]$ is estimated by applying a discrete Fourier transformation (DFT) to its ACF. For a better interpretation of the PSD, the frequency axis $f = \\frac{\\Omega}{2 \\pi} \\cdot f_s$ has been chosen for illustration, where $f_s$ denotes the sampling frequency of the signal. \n",
        "\n",
        "In Python the ACF is stored in a vector with indexes $0, 1, ..., 2N -1$ where the indexes correspond to the lags $\\kappa = -N+1,-N+2,....,N-1$. When computing the discrete Fourier transform (DFT) of the ACF numerically by the fast Fourier transform (FFT) one has to take this shift into account. For instance, by multiplying the DFT $\\Phi_{xx}[\\mu]$ by $e^{j \\mu \\frac{2 \\pi}{2N - 1} (N-1)}$ where $N$ denotes the length of the signal $N$."
      ]
    },
    {
      "cell_type": "code",
      "metadata": {
        "id": "UDj9O4TbbMVC",
        "outputId": "4777a7a8-9b67-4a29-ae90-16f73c5b6cd1",
        "colab": {
          "base_uri": "https://localhost:8080/"
        }
      },
      "source": [
        "#cargar datos desde drive acceso libre\n",
        "FILEID = \"14ArFcbwqGwpHFHYHFJI_Y2cuaJmiN23X\"\n",
        "!wget --load-cookies /tmp/cookies.txt \"https://docs.google.com/uc?export=download&confirm=$(wget --quiet --save-cookies /tmp/cookies.txt --keep-session-cookies --no-check-certificate 'https://docs.google.com/uc?export=download&id='$FILEID -O- | sed -rn 's/.*confirm=([0-9A-Za-z_]+).*/\\1\\n/p')&id=\"$FILEID -O codigos.zip && rm -rf /tmp/cookies.txt\n",
        "!unzip codigos.zip\n",
        "!dir"
      ],
      "execution_count": 2,
      "outputs": [
        {
          "output_type": "stream",
          "text": [
            "--2021-07-28 14:02:51--  https://docs.google.com/uc?export=download&confirm=&id=14ArFcbwqGwpHFHYHFJI_Y2cuaJmiN23X\n",
            "Resolving docs.google.com (docs.google.com)... 142.251.2.102, 142.251.2.100, 142.251.2.139, ...\n",
            "Connecting to docs.google.com (docs.google.com)|142.251.2.102|:443... connected.\n",
            "HTTP request sent, awaiting response... 302 Moved Temporarily\n",
            "Location: https://doc-0k-1s-docs.googleusercontent.com/docs/securesc/ha4dokui37gmf24cqilpmu6ld5tbgfe2/q18cu2hmbjf0q9pdaob32tcslviub32d/1627480950000/09173029842254050324/16299301525861129343Z/14ArFcbwqGwpHFHYHFJI_Y2cuaJmiN23X?e=download [following]\n",
            "--2021-07-28 14:02:52--  https://doc-0k-1s-docs.googleusercontent.com/docs/securesc/ha4dokui37gmf24cqilpmu6ld5tbgfe2/q18cu2hmbjf0q9pdaob32tcslviub32d/1627480950000/09173029842254050324/16299301525861129343Z/14ArFcbwqGwpHFHYHFJI_Y2cuaJmiN23X?e=download\n",
            "Resolving doc-0k-1s-docs.googleusercontent.com (doc-0k-1s-docs.googleusercontent.com)... 142.250.141.132, 2607:f8b0:4023:c0b::84\n",
            "Connecting to doc-0k-1s-docs.googleusercontent.com (doc-0k-1s-docs.googleusercontent.com)|142.250.141.132|:443... connected.\n",
            "HTTP request sent, awaiting response... 302 Found\n",
            "Location: https://docs.google.com/nonceSigner?nonce=hnuqgov087bau&continue=https://doc-0k-1s-docs.googleusercontent.com/docs/securesc/ha4dokui37gmf24cqilpmu6ld5tbgfe2/q18cu2hmbjf0q9pdaob32tcslviub32d/1627480950000/09173029842254050324/16299301525861129343Z/14ArFcbwqGwpHFHYHFJI_Y2cuaJmiN23X?e%3Ddownload&hash=e2mg1ro0ou5cqacgc6l5v3cl9f33n8dq [following]\n",
            "--2021-07-28 14:02:52--  https://docs.google.com/nonceSigner?nonce=hnuqgov087bau&continue=https://doc-0k-1s-docs.googleusercontent.com/docs/securesc/ha4dokui37gmf24cqilpmu6ld5tbgfe2/q18cu2hmbjf0q9pdaob32tcslviub32d/1627480950000/09173029842254050324/16299301525861129343Z/14ArFcbwqGwpHFHYHFJI_Y2cuaJmiN23X?e%3Ddownload&hash=e2mg1ro0ou5cqacgc6l5v3cl9f33n8dq\n",
            "Connecting to docs.google.com (docs.google.com)|142.251.2.102|:443... connected.\n",
            "HTTP request sent, awaiting response... 302 Found\n",
            "Location: https://doc-0k-1s-docs.googleusercontent.com/docs/securesc/ha4dokui37gmf24cqilpmu6ld5tbgfe2/q18cu2hmbjf0q9pdaob32tcslviub32d/1627480950000/09173029842254050324/16299301525861129343Z/14ArFcbwqGwpHFHYHFJI_Y2cuaJmiN23X?e=download&nonce=hnuqgov087bau&user=16299301525861129343Z&hash=jcpe8bdvrnmaos09jpmof42vnhnbin6t [following]\n",
            "--2021-07-28 14:02:52--  https://doc-0k-1s-docs.googleusercontent.com/docs/securesc/ha4dokui37gmf24cqilpmu6ld5tbgfe2/q18cu2hmbjf0q9pdaob32tcslviub32d/1627480950000/09173029842254050324/16299301525861129343Z/14ArFcbwqGwpHFHYHFJI_Y2cuaJmiN23X?e=download&nonce=hnuqgov087bau&user=16299301525861129343Z&hash=jcpe8bdvrnmaos09jpmof42vnhnbin6t\n",
            "Connecting to doc-0k-1s-docs.googleusercontent.com (doc-0k-1s-docs.googleusercontent.com)|142.250.141.132|:443... connected.\n",
            "HTTP request sent, awaiting response... 200 OK\n",
            "Length: 1611982 (1.5M) [application/zip]\n",
            "Saving to: ‘codigos.zip’\n",
            "\n",
            "codigos.zip         100%[===================>]   1.54M  6.64MB/s    in 0.2s    \n",
            "\n",
            "2021-07-28 14:02:52 (6.64 MB/s) - ‘codigos.zip’ saved [1611982/1611982]\n",
            "\n",
            "Archive:  codigos.zip\n",
            "   creating: data/\n",
            "  inflating: data/speech_8k.wav      \n",
            "  inflating: data/linear_sweep.wav   \n",
            "  inflating: data/gold_sequences.npz  \n",
            "  inflating: data/speech.wav         \n",
            "  inflating: data/amplifier_noise.npz  \n",
            "  inflating: data/desktop.ini        \n",
            "codigos.zip  data  sample_data\n"
          ],
          "name": "stdout"
        }
      ]
    },
    {
      "cell_type": "code",
      "metadata": {
        "id": "IlchZ8nUbgln"
      },
      "source": [
        ""
      ],
      "execution_count": null,
      "outputs": []
    },
    {
      "cell_type": "code",
      "metadata": {
        "id": "S1rt_RMJZecN",
        "outputId": "b62e021a-38d6-4f7d-82d4-12802d11d228",
        "colab": {
          "base_uri": "https://localhost:8080/",
          "height": 515
        }
      },
      "source": [
        "%matplotlib inline\n",
        "import numpy as np\n",
        "import matplotlib.pyplot as plt\n",
        "from scipy.io import wavfile\n",
        "\n",
        "# read audio file \n",
        "fs, x = wavfile.read('data/speech_8k.wav')\n",
        "x = np.asarray(x, dtype=float)\n",
        "N = len(x)\n",
        "\n",
        "# compute ACF\n",
        "acf = 1/len(x) * np.correlate(x, x, mode='full')\n",
        "# compute PSD\n",
        "psd = np.fft.fft(acf)\n",
        "psd = psd * np.exp(1j*np.arange(2*N-1)*2*np.pi*(N-1)/(2*N-1))\n",
        "f = np.fft.fftfreq(2*N-1, d=1/fs)\n",
        "\n",
        "# plot PSD\n",
        "plt.figure(figsize = (10, 8))\n",
        "plt.plot(f, np.real(psd))\n",
        "plt.title('Estimated power spectral density')\n",
        "plt.ylabel(r'$\\hat{\\Phi}_{xx}(e^{j \\Omega})$')\n",
        "plt.xlabel(r'$f$')\n",
        "plt.axis([0, 2000, 0, 1.1*max(np.abs(psd))]);\n",
        "plt.grid()"
      ],
      "execution_count": 4,
      "outputs": [
        {
          "output_type": "display_data",
          "data": {
            "image/png": "[encoded data removed]",
            "text/plain": [
              "<Figure size 720x576 with 1 Axes>"
            ]
          },
          "metadata": {
            "tags": [],
            "needs_background": "light"
          }
        }
      ]
    },
    {
      "cell_type": "markdown",
      "metadata": {
        "id": "1JFd7MGpZecO"
      },
      "source": [
        "**Exercise**\n",
        "\n",
        "* What does the PSD tell you about the spectral contents of a speech signal?\n",
        "\n",
        "Solution: It can be concluded from the shown PSD that the main power of a speech signal is contained in the frequency range below 500 Hz. The speech signal exhibits furthermore a harmonic structure with a dominant fundamental frequency and a number of harmonics."
      ]
    },
    {
      "cell_type": "markdown",
      "metadata": {
        "id": "ojjn6UETZecP"
      },
      "source": [
        "## Cross-Power Spectral Density\n",
        "\n",
        "The cross-power spectral density is defined as the Fourier transformation of the [cross-correlation function](correlation_functions.ipynb#Cross-Correlation-Function) (CCF)."
      ]
    },
    {
      "cell_type": "markdown",
      "metadata": {
        "id": "HTvOCrpwZecP"
      },
      "source": [
        "### Definition\n",
        "\n",
        "For two continuous-amplitude real-valued wide-sense stationary (WSS) random signals $x[k]$ and $y[k]$ the cross-power spectral density is given as\n",
        "\n",
        "\\begin{equation}\n",
        "\\Phi_{xy}(\\mathrm{e}^{\\,\\mathrm{j} \\, \\Omega}) = \\mathcal{F}_* \\{ \\varphi_{xy}[\\kappa] \\}\n",
        "\\end{equation}\n",
        "\n",
        "where $\\varphi_{xy}[\\kappa]$ denotes the CCF of $x[k]$ and $y[k]$. Note, the DTFT is performed with respect to $\\kappa$. The CCF of two random signals of finite lengths $N$ and $M$ can be expressed by way of a linear convolution\n",
        "\n",
        "\\begin{equation}\n",
        "\\varphi_{xy}[\\kappa] = \\frac{1}{N} \\cdot x_N[k] * y_M[-k]\n",
        "\\end{equation}\n",
        "\n",
        "Taking the DTFT of the left- and right-hand side results in\n",
        "\n",
        "\\begin{equation}\n",
        "\\Phi_{xy}(\\mathrm{e}^{\\,\\mathrm{j}\\,\\Omega}) = \\frac{1}{N} \\, X_N(\\mathrm{e}^{\\,\\mathrm{j}\\,\\Omega})\\, Y_M(\\mathrm{e}^{-\\,\\mathrm{j}\\,\\Omega})\n",
        "\\end{equation}"
      ]
    },
    {
      "cell_type": "markdown",
      "metadata": {
        "id": "RWTjqVPBZecQ"
      },
      "source": [
        "### Properties\n",
        "\n",
        "1. The symmetries of $\\Phi_{xy}(\\mathrm{e}^{\\,\\mathrm{j}\\, \\Omega})$ can be derived from the symmetries of the CCF and the DTFT as\n",
        "\n",
        "    $$ \\underbrace {\\Phi_{xy}(\\mathrm{e}^{\\,\\mathrm{j}\\, \\Omega}) = \\Phi_{xy}^*(\\mathrm{e}^{-\\,\\mathrm{j}\\, \\Omega})}_{\\varphi_{xy}[\\kappa] \\in \\mathbb{R}} = \n",
        "\\underbrace {\\Phi_{yx}(\\mathrm{e}^{\\,- \\mathrm{j}\\, \\Omega}) = \\Phi_{yx}^*(\\mathrm{e}^{\\,\\mathrm{j}\\, \\Omega})}_{\\varphi_{yx}[-\\kappa] \\in \\mathbb{R}}$$\n",
        "\n",
        "    from which can be concluded that $|\\Phi_{xy}(\\mathrm{e}^{\\,\\mathrm{j}\\, \\Omega})| = |\\Phi_{yx}(\\mathrm{e}^{\\,\\mathrm{j}\\, \\Omega})|$\n",
        "\n",
        "2. The cross PSD of two uncorrelated random signals is given as\n",
        "\n",
        "    $$ \\Phi_{xy}(\\mathrm{e}^{\\,\\mathrm{j} \\, \\Omega}) = \\mu_x^2 \\mu_y^2 \\cdot {\\bot \\!\\! \\bot \\!\\! \\bot}\\left( \\frac{\\Omega}{2 \\pi} \\right) $$\n",
        "    \n",
        "    which can be deduced from the CCF of an uncorrelated signal."
      ]
    },
    {
      "cell_type": "markdown",
      "metadata": {
        "id": "U1RmnHFAZecQ"
      },
      "source": [
        "### Example - Cross Power Spectral Density\n",
        "\n",
        "The following example estimates and plots the cross PSD $\\Phi_{xy}(\\mathrm{e}^{\\,\\mathrm{j}\\, \\Omega})$ of two random signals $x_N[k]$ and $y_M[k]$ of finite lengths $N$ and $M = 2 N$. The estimated cross PSD is calculated from the valid part of the CCF $\\varphi_{xy}[\\kappa]$ by an DFT in order to exclude boundary effects."
      ]
    },
    {
      "cell_type": "code",
      "metadata": {
        "id": "pSWCPqqYZecQ"
      },
      "source": [
        "N = 1024  # length of random signal x\n",
        "\n",
        "# generate two random signals\n",
        "np.random.seed(2)\n",
        "x = 2 + np.random.normal(size=N)\n",
        "y = 1 + np.random.normal(size=2*N)\n",
        "\n",
        "# compute cross PSD via CCF\n",
        "acf = 1/N * np.correlate(x, y, mode='valid')\n",
        "psd = np.fft.fft(acf)\n",
        "psd = psd * np.exp(1j*np.arange(N+1)*2*np.pi*(N-1)/(2*N-1))\n",
        "\n",
        "# plot results\n",
        "f = np.fft.fftfreq(len(psd), d=1/2)\n",
        "plt.figure(figsize = (10, 4))\n",
        "plt.stem(f, np.real(psd))\n",
        "plt.title('Estimated cross power spectral density')\n",
        "plt.ylabel(r'$\\hat{\\Phi}_{xy}(e^{j \\Omega})$')\n",
        "plt.xlabel(r'$\\Omega/ \\pi$')\n",
        "plt.grid()"
      ],
      "execution_count": null,
      "outputs": []
    },
    {
      "cell_type": "markdown",
      "metadata": {
        "id": "vD3dctIIZecR"
      },
      "source": [
        "**Exercise**\n",
        "\n",
        "* What does the cross PSD $\\Phi_{xy}(\\mathrm{e}^{\\,\\mathrm{j} \\, \\Omega})$ tell you about the statistical properties of the two random signals?\n",
        "\n",
        "Solution: The cross PSD $\\Phi_{xy}(\\mathrm{e}^{\\,\\mathrm{j} \\, \\Omega})$ is essential only non-zero for $\\Omega=0$. It hence can be concluded that the two random signals are not mean-free and uncorrelated to each other."
      ]
    },
    {
      "cell_type": "markdown",
      "metadata": {
        "nbsphinx": "hidden",
        "id": "-DcJ_MukZecR"
      },
      "source": [
        "**Copyright**\n",
        "\n",
        "This notebook is provided as [Open Educational Resource](https://en.wikipedia.org/wiki/Open_educational_resources). Feel free to use the notebook for your own purposes. The text is licensed under [Creative Commons Attribution 4.0](https://creativecommons.org/licenses/by/4.0/), the code of the IPython examples under the [MIT license](https://opensource.org/licenses/MIT). Please attribute the work as follows: *Sascha Spors, Digital Signal Processing - Lecture notes featuring computational examples, 2016-2018*."
      ]
    }
  ]
}